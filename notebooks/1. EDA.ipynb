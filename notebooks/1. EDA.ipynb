{
 "cells": [
  {
   "cell_type": "markdown",
   "id": "413f7e3c-e037-4549-a98c-b20d3d5582aa",
   "metadata": {},
   "source": [
    "# LBG Consumer Data Scientist\n",
    "\n",
    "## 1. EDA"
   ]
  },
  {
   "cell_type": "code",
   "execution_count": 371,
   "id": "05c9ad84-b42e-4e6f-8e8e-3b944091cec3",
   "metadata": {},
   "outputs": [],
   "source": [
    "# Import packages\n",
    "import pandas as pd\n",
    "import matplotlib.pyplot as plt\n",
    "import seaborn as sns\n",
    "import numpy as np\n",
    "import requests\n",
    "import re\n",
    "\n",
    "from sklearn.calibration import CalibratedClassifierCV, calibration_curve\n",
    "from sklearn.model_selection import RandomizedSearchCV\n",
    "from sklearn.metrics import classification_report, precision_score, recall_score, roc_curve, roc_auc_score, precision_recall_curve\n",
    "from typing import Iterable\n",
    "\n",
    "%matplotlib inline"
   ]
  },
  {
   "cell_type": "code",
   "execution_count": 372,
   "id": "df4ea1fd-9f95-46fe-b3ca-7a18a3493d86",
   "metadata": {},
   "outputs": [],
   "source": [
    "# Read DFs\n",
    "mortgages_df = pd.read_csv('../data/mortgage.csv')\n",
    "campaign_df = pd.read_csv('../data/campaign.csv')"
   ]
  },
  {
   "cell_type": "markdown",
   "id": "0a61c377-4a2d-4fa3-9bfb-871ecf1a9bd1",
   "metadata": {},
   "source": [
    "I noticed from inspecting the .csv's that the frames are both in the same order (from names) so I'm going to assert that they are."
   ]
  },
  {
   "cell_type": "code",
   "execution_count": 373,
   "id": "4c54aa87-0ab2-451b-928a-a5fb8b653ae3",
   "metadata": {},
   "outputs": [],
   "source": [
    "# Get last names from mortgages\n",
    "mortgage_last_names = [name.split()[-1] for name in mortgages_df.full_name]\n",
    "mortgage_last_names = mortgage_last_names[:len(campaign_df)]"
   ]
  },
  {
   "cell_type": "code",
   "execution_count": 374,
   "id": "58c677ab-22fa-4601-889f-cfb0f0ac73d5",
   "metadata": {},
   "outputs": [],
   "source": [
    "# Assert equal to those in campaign\n",
    "assert mortgage_last_names == campaign_df.last_name.to_list()"
   ]
  },
  {
   "cell_type": "markdown",
   "id": "de5c7ad1-ee67-4298-a5f0-976603b37530",
   "metadata": {},
   "source": [
    "So we can be sure that the frames match up in order - I will add the participant_id from campaign so that we can join safely on it later. I'll also remove the rows that overhang at the bottom there are only a few of them and it would be better if the tables matched exactly."
   ]
  },
  {
   "cell_type": "code",
   "execution_count": 375,
   "id": "3063c5fd-3c03-4e14-934e-fcef6a268833",
   "metadata": {},
   "outputs": [],
   "source": [
    "# Join dataframe and remove those where there is no match. \n",
    "mortgages_df = pd.concat([campaign_df.participant_id, mortgages_df], axis=1)\n",
    "mortgages_df.dropna(subset='participant_id', inplace=True)\n",
    "mortgages_df['participant_id'] = mortgages_df['participant_id'].astype('int64')"
   ]
  },
  {
   "cell_type": "markdown",
   "id": "1d64c14f-af15-4032-9236-90e61dbf33e0",
   "metadata": {
    "tags": []
   },
   "source": [
    "### Explore Mortgages Frame"
   ]
  },
  {
   "cell_type": "code",
   "execution_count": 376,
   "id": "0040dd52-0f9f-4a39-99fa-31650f48ff4c",
   "metadata": {},
   "outputs": [
    {
     "name": "stdout",
     "output_type": "stream",
     "text": [
      "<class 'pandas.core.frame.DataFrame'>\n",
      "Int64Index: 32060 entries, 0 to 32059\n",
      "Data columns (total 19 columns):\n",
      " #   Column                      Non-Null Count  Dtype \n",
      "---  ------                      --------------  ----- \n",
      " 0   participant_id              32060 non-null  int64 \n",
      " 1   full_name                   32060 non-null  object\n",
      " 2   dob                         32060 non-null  object\n",
      " 3   town                        32060 non-null  object\n",
      " 4   paye                        32060 non-null  object\n",
      " 5   salary_band                 32060 non-null  object\n",
      " 6   years_with_employer         32060 non-null  int64 \n",
      " 7   months_with_employer        32060 non-null  int64 \n",
      " 8   hours_per_week              32060 non-null  int64 \n",
      " 9   capital_gain                32060 non-null  int64 \n",
      " 10  capital_loss                32060 non-null  int64 \n",
      " 11  new_mortgage                32060 non-null  object\n",
      " 12  sex                         32060 non-null  object\n",
      " 13  religion                    32060 non-null  object\n",
      " 14  relationship                32060 non-null  object\n",
      " 15  race                        32060 non-null  object\n",
      " 16  native_country              32060 non-null  object\n",
      " 17  workclass                   32060 non-null  object\n",
      " 18  demographic_characteristic  32060 non-null  int64 \n",
      "dtypes: int64(7), object(12)\n",
      "memory usage: 4.9+ MB\n"
     ]
    }
   ],
   "source": [
    "# Explore mortgages\n",
    "mortgages_df.info()"
   ]
  },
  {
   "cell_type": "code",
   "execution_count": 377,
   "id": "b5651a52-6f25-41b5-b382-bf131c0f9036",
   "metadata": {},
   "outputs": [
    {
     "data": {
      "text/html": [
       "<div>\n",
       "<style scoped>\n",
       "    .dataframe tbody tr th:only-of-type {\n",
       "        vertical-align: middle;\n",
       "    }\n",
       "\n",
       "    .dataframe tbody tr th {\n",
       "        vertical-align: top;\n",
       "    }\n",
       "\n",
       "    .dataframe thead th {\n",
       "        text-align: right;\n",
       "    }\n",
       "</style>\n",
       "<table border=\"1\" class=\"dataframe\">\n",
       "  <thead>\n",
       "    <tr style=\"text-align: right;\">\n",
       "      <th></th>\n",
       "      <th>participant_id</th>\n",
       "      <th>full_name</th>\n",
       "      <th>dob</th>\n",
       "      <th>town</th>\n",
       "      <th>paye</th>\n",
       "      <th>salary_band</th>\n",
       "      <th>years_with_employer</th>\n",
       "      <th>months_with_employer</th>\n",
       "      <th>hours_per_week</th>\n",
       "      <th>capital_gain</th>\n",
       "      <th>capital_loss</th>\n",
       "      <th>new_mortgage</th>\n",
       "      <th>sex</th>\n",
       "      <th>religion</th>\n",
       "      <th>relationship</th>\n",
       "      <th>race</th>\n",
       "      <th>native_country</th>\n",
       "      <th>workclass</th>\n",
       "      <th>demographic_characteristic</th>\n",
       "    </tr>\n",
       "  </thead>\n",
       "  <tbody>\n",
       "    <tr>\n",
       "      <th>0</th>\n",
       "      <td>8997001834838</td>\n",
       "      <td>Mr. Dale Coles</td>\n",
       "      <td>1979-05-10</td>\n",
       "      <td>Edinburgh</td>\n",
       "      <td>53791313</td>\n",
       "      <td>£18109 yearly</td>\n",
       "      <td>20</td>\n",
       "      <td>6</td>\n",
       "      <td>40</td>\n",
       "      <td>2174</td>\n",
       "      <td>0</td>\n",
       "      <td>Yes</td>\n",
       "      <td>Male</td>\n",
       "      <td>Christianity</td>\n",
       "      <td>Not-in-family</td>\n",
       "      <td>White</td>\n",
       "      <td>United Kingdom</td>\n",
       "      <td>State-gov</td>\n",
       "      <td>77516</td>\n",
       "    </tr>\n",
       "    <tr>\n",
       "      <th>1</th>\n",
       "      <td>2764968366919</td>\n",
       "      <td>Joel Allen</td>\n",
       "      <td>1968-07-06</td>\n",
       "      <td>Leeds</td>\n",
       "      <td>24005258</td>\n",
       "      <td>£16945 yearly</td>\n",
       "      <td>28</td>\n",
       "      <td>1</td>\n",
       "      <td>13</td>\n",
       "      <td>0</td>\n",
       "      <td>0</td>\n",
       "      <td>Yes</td>\n",
       "      <td>Male</td>\n",
       "      <td>Christianity</td>\n",
       "      <td>Husband</td>\n",
       "      <td>White</td>\n",
       "      <td>United Kingdom</td>\n",
       "      <td>Self-emp-not-inc</td>\n",
       "      <td>83311</td>\n",
       "    </tr>\n",
       "    <tr>\n",
       "      <th>2</th>\n",
       "      <td>8454884369838</td>\n",
       "      <td>Mr. Craig Marc Davis</td>\n",
       "      <td>1979-02-10</td>\n",
       "      <td>Edinburgh</td>\n",
       "      <td>44124649</td>\n",
       "      <td>£729.87 pw</td>\n",
       "      <td>14</td>\n",
       "      <td>5</td>\n",
       "      <td>40</td>\n",
       "      <td>0</td>\n",
       "      <td>0</td>\n",
       "      <td>Yes</td>\n",
       "      <td>Male</td>\n",
       "      <td>Christianity</td>\n",
       "      <td>Not-in-family</td>\n",
       "      <td>White</td>\n",
       "      <td>United Kingdom</td>\n",
       "      <td>Private</td>\n",
       "      <td>215646</td>\n",
       "    </tr>\n",
       "    <tr>\n",
       "      <th>3</th>\n",
       "      <td>5781315494498</td>\n",
       "      <td>Mr. Brandon Thornton</td>\n",
       "      <td>1965-10-20</td>\n",
       "      <td>Edinburgh</td>\n",
       "      <td>85701281</td>\n",
       "      <td>£19087 yearly</td>\n",
       "      <td>32</td>\n",
       "      <td>6</td>\n",
       "      <td>40</td>\n",
       "      <td>0</td>\n",
       "      <td>0</td>\n",
       "      <td>Yes</td>\n",
       "      <td>Male</td>\n",
       "      <td>Christianity</td>\n",
       "      <td>Husband</td>\n",
       "      <td>Black</td>\n",
       "      <td>United Kingdom</td>\n",
       "      <td>Private</td>\n",
       "      <td>234721</td>\n",
       "    </tr>\n",
       "    <tr>\n",
       "      <th>4</th>\n",
       "      <td>8687486791428</td>\n",
       "      <td>Miss Brett Carol Fletcher</td>\n",
       "      <td>1990-02-20</td>\n",
       "      <td>Swindon</td>\n",
       "      <td>BR442000</td>\n",
       "      <td>£2741.5 per month</td>\n",
       "      <td>3</td>\n",
       "      <td>6</td>\n",
       "      <td>40</td>\n",
       "      <td>0</td>\n",
       "      <td>0</td>\n",
       "      <td>Yes</td>\n",
       "      <td>Female</td>\n",
       "      <td>Christianity</td>\n",
       "      <td>Wife</td>\n",
       "      <td>Black</td>\n",
       "      <td>Sweden</td>\n",
       "      <td>Private</td>\n",
       "      <td>338409</td>\n",
       "    </tr>\n",
       "  </tbody>\n",
       "</table>\n",
       "</div>"
      ],
      "text/plain": [
       "   participant_id                  full_name         dob       town      paye  \\\n",
       "0   8997001834838             Mr. Dale Coles  1979-05-10  Edinburgh  53791313   \n",
       "1   2764968366919                 Joel Allen  1968-07-06      Leeds  24005258   \n",
       "2   8454884369838       Mr. Craig Marc Davis  1979-02-10  Edinburgh  44124649   \n",
       "3   5781315494498       Mr. Brandon Thornton  1965-10-20  Edinburgh  85701281   \n",
       "4   8687486791428  Miss Brett Carol Fletcher  1990-02-20    Swindon  BR442000   \n",
       "\n",
       "         salary_band  years_with_employer  months_with_employer  \\\n",
       "0      £18109 yearly                   20                     6   \n",
       "1      £16945 yearly                   28                     1   \n",
       "2         £729.87 pw                   14                     5   \n",
       "3      £19087 yearly                   32                     6   \n",
       "4  £2741.5 per month                    3                     6   \n",
       "\n",
       "   hours_per_week  capital_gain  capital_loss new_mortgage     sex  \\\n",
       "0              40          2174             0          Yes    Male   \n",
       "1              13             0             0          Yes    Male   \n",
       "2              40             0             0          Yes    Male   \n",
       "3              40             0             0          Yes    Male   \n",
       "4              40             0             0          Yes  Female   \n",
       "\n",
       "       religion   relationship   race  native_country         workclass  \\\n",
       "0  Christianity  Not-in-family  White  United Kingdom         State-gov   \n",
       "1  Christianity        Husband  White  United Kingdom  Self-emp-not-inc   \n",
       "2  Christianity  Not-in-family  White  United Kingdom           Private   \n",
       "3  Christianity        Husband  Black  United Kingdom           Private   \n",
       "4  Christianity           Wife  Black          Sweden           Private   \n",
       "\n",
       "   demographic_characteristic  \n",
       "0                       77516  \n",
       "1                       83311  \n",
       "2                      215646  \n",
       "3                      234721  \n",
       "4                      338409  "
      ]
     },
     "execution_count": 377,
     "metadata": {},
     "output_type": "execute_result"
    }
   ],
   "source": [
    "mortgages_df.head()"
   ]
  },
  {
   "cell_type": "code",
   "execution_count": 378,
   "id": "a065c042-e286-4757-aa79-beb0b01e3df7",
   "metadata": {},
   "outputs": [],
   "source": [
    "# Drop columns which raise ethical concerns\n",
    "non_ethical_columns = ['sex', 'religion', 'race', 'native_country']\n",
    "mortgages_df = mortgages_df.drop(non_ethical_columns, axis=1)"
   ]
  },
  {
   "cell_type": "code",
   "execution_count": 379,
   "id": "56de7279-a2ff-4911-a8c8-c083982c9d50",
   "metadata": {},
   "outputs": [],
   "source": [
    "# Drop columns which have high cardinality / obviously not useful\n",
    "bad_columns = ['full_name', 'dob', 'paye']\n",
    "mortgages_df = mortgages_df.drop(bad_columns, axis=1)"
   ]
  },
  {
   "cell_type": "code",
   "execution_count": 380,
   "id": "0efe2d29-85a7-475d-88a9-5f689911f252",
   "metadata": {},
   "outputs": [
    {
     "name": "stdout",
     "output_type": "stream",
     "text": [
      "Edinburgh          19228\n",
      "Swindon             5170\n",
      "Leeds               1510\n",
      "Oxford              1393\n",
      "Bristol             1024\n",
      "                   ...  \n",
      "Mohammedchester        1\n",
      "Parkerfurt             1\n",
      "Spencerland            1\n",
      "East Leslie            1\n",
      "Margaretberg           1\n",
      "Name: town, Length: 2603, dtype: int64\n",
      "\n",
      " --------- \n",
      "\n",
      "£19360 yearly           18\n",
      "£19892 yearly           15\n",
      "£17249 yearly           15\n",
      "£23713 yearly           14\n",
      "£20838 yearly           14\n",
      "                        ..\n",
      "£283.41 pw               1\n",
      "6107027.2IMP             1\n",
      "33480972.88MVR           1\n",
      "£11955 - 21669 range     1\n",
      "£18396 - 33343 range     1\n",
      "Name: salary_band, Length: 18161, dtype: int64\n",
      "\n",
      " --------- \n",
      "\n",
      "Yes    32060\n",
      "Name: new_mortgage, dtype: int64\n",
      "\n",
      " --------- \n",
      "\n",
      "Husband           12996\n",
      "Not-in-family      8158\n",
      "Own-child          5006\n",
      "Unmarried          3397\n",
      "Wife               1543\n",
      "Other-relative      960\n",
      "Name: relationship, dtype: int64\n",
      "\n",
      " --------- \n",
      "\n",
      "Private             22342\n",
      "Self-emp-not-inc     2506\n",
      "Local-gov            2061\n",
      "?                    1808\n",
      "State-gov            1281\n",
      "Self-emp-inc         1099\n",
      "Federal-gov           945\n",
      "Without-pay            13\n",
      "Never-worked            5\n",
      "Name: workclass, dtype: int64\n",
      "\n",
      " --------- \n",
      "\n"
     ]
    }
   ],
   "source": [
    "# Inspect categorical columns\n",
    "for col in mortgages_df.select_dtypes('object'):\n",
    "    print(mortgages_df[col].value_counts())\n",
    "    print('\\n --------- \\n')"
   ]
  },
  {
   "cell_type": "markdown",
   "id": "953648ad-2d1d-4577-8013-1bbebccff067",
   "metadata": {},
   "source": [
    "Observations on categorical columns:\n",
    "\n",
    "* There are a lot of customers who live in Edinburgh - I would challenge the assessment that this sample was taken randomly. I don't think I'll use it as a feature but I'm interested in doing some analysis to see if there are any geographical differences.\n",
    "* Salary column may be useful but currently in different currencies and periods - will need to sort this.\n",
    "* Only one value in 'new-mortgage' so drop it. \n",
    "* Nervious about using the relationship feature because it has 'husband' and 'wife' in it - proxies for gender. \n",
    "* Workclass column looks fine but there is a '?' where there should be nan so will need to address."
   ]
  },
  {
   "cell_type": "code",
   "execution_count": 381,
   "id": "1460b4d0-2002-4cb9-867e-d9a0d93db853",
   "metadata": {},
   "outputs": [],
   "source": [
    "# Drop some categorical columns\n",
    "cat_drop_cols = ['new_mortgage', 'relationship']\n",
    "mortgages_df = mortgages_df.drop(cat_drop_cols, axis=1)"
   ]
  },
  {
   "cell_type": "code",
   "execution_count": 382,
   "id": "a5e680c6-d51b-4e36-9cde-20d875e25cb5",
   "metadata": {},
   "outputs": [],
   "source": [
    "# Change ? to nan in workclass\n",
    "mortgages_df['workclass'] = mortgages_df['workclass'].replace('?', np.nan)"
   ]
  },
  {
   "cell_type": "markdown",
   "id": "c54353ae-38bb-4bc7-b3fc-887592647569",
   "metadata": {},
   "source": [
    "### Explore Campaign Dataset"
   ]
  },
  {
   "cell_type": "code",
   "execution_count": 383,
   "id": "81026255-9312-4b26-ad6d-af8da05dc0f7",
   "metadata": {},
   "outputs": [
    {
     "name": "stdout",
     "output_type": "stream",
     "text": [
      "<class 'pandas.core.frame.DataFrame'>\n",
      "RangeIndex: 32060 entries, 0 to 32059\n",
      "Data columns (total 16 columns):\n",
      " #   Column                Non-Null Count  Dtype \n",
      "---  ------                --------------  ----- \n",
      " 0   participant_id        32060 non-null  int64 \n",
      " 1   name_title            19859 non-null  object\n",
      " 2   first_name            32060 non-null  object\n",
      " 3   last_name             32060 non-null  object\n",
      " 4   age                   32060 non-null  int64 \n",
      " 5   postcode              32060 non-null  object\n",
      " 6   marital_status        32060 non-null  object\n",
      " 7   education             32060 non-null  object\n",
      " 8   job_title             32060 non-null  object\n",
      " 9   occupation_level      32060 non-null  int64 \n",
      " 10  education_num         32060 non-null  int64 \n",
      " 11  familiarity_nw        32060 non-null  int64 \n",
      " 12  view_nw               32060 non-null  int64 \n",
      " 13  interested_insurance  32060 non-null  int64 \n",
      " 14  company_email         32060 non-null  object\n",
      " 15  created_account       3027 non-null   object\n",
      "dtypes: int64(7), object(9)\n",
      "memory usage: 3.9+ MB\n"
     ]
    }
   ],
   "source": [
    "campaign_df.info()"
   ]
  },
  {
   "cell_type": "code",
   "execution_count": 384,
   "id": "bcb6785a-94fa-4958-ba4b-f97664d0f4c5",
   "metadata": {},
   "outputs": [
    {
     "data": {
      "text/html": [
       "<div>\n",
       "<style scoped>\n",
       "    .dataframe tbody tr th:only-of-type {\n",
       "        vertical-align: middle;\n",
       "    }\n",
       "\n",
       "    .dataframe tbody tr th {\n",
       "        vertical-align: top;\n",
       "    }\n",
       "\n",
       "    .dataframe thead th {\n",
       "        text-align: right;\n",
       "    }\n",
       "</style>\n",
       "<table border=\"1\" class=\"dataframe\">\n",
       "  <thead>\n",
       "    <tr style=\"text-align: right;\">\n",
       "      <th></th>\n",
       "      <th>participant_id</th>\n",
       "      <th>name_title</th>\n",
       "      <th>first_name</th>\n",
       "      <th>last_name</th>\n",
       "      <th>age</th>\n",
       "      <th>postcode</th>\n",
       "      <th>marital_status</th>\n",
       "      <th>education</th>\n",
       "      <th>job_title</th>\n",
       "      <th>occupation_level</th>\n",
       "      <th>education_num</th>\n",
       "      <th>familiarity_nw</th>\n",
       "      <th>view_nw</th>\n",
       "      <th>interested_insurance</th>\n",
       "      <th>company_email</th>\n",
       "      <th>created_account</th>\n",
       "    </tr>\n",
       "  </thead>\n",
       "  <tbody>\n",
       "    <tr>\n",
       "      <th>0</th>\n",
       "      <td>8997001834838</td>\n",
       "      <td>Mr.</td>\n",
       "      <td>Dale</td>\n",
       "      <td>Coles</td>\n",
       "      <td>39</td>\n",
       "      <td>EH4 9FL</td>\n",
       "      <td>Never-married</td>\n",
       "      <td>Bachelors</td>\n",
       "      <td>Furniture conservator/restorer</td>\n",
       "      <td>1</td>\n",
       "      <td>17</td>\n",
       "      <td>7</td>\n",
       "      <td>9</td>\n",
       "      <td>0</td>\n",
       "      <td>jrhodes@jones.com</td>\n",
       "      <td>No</td>\n",
       "    </tr>\n",
       "    <tr>\n",
       "      <th>1</th>\n",
       "      <td>2764968366919</td>\n",
       "      <td>NaN</td>\n",
       "      <td>Joel</td>\n",
       "      <td>Allen</td>\n",
       "      <td>50</td>\n",
       "      <td>LS5H 0JG</td>\n",
       "      <td>Married-civ-spouse</td>\n",
       "      <td>Bachelors</td>\n",
       "      <td>Administrator, sports</td>\n",
       "      <td>4</td>\n",
       "      <td>17</td>\n",
       "      <td>9</td>\n",
       "      <td>6</td>\n",
       "      <td>1</td>\n",
       "      <td>william32@carey.com</td>\n",
       "      <td>No</td>\n",
       "    </tr>\n",
       "    <tr>\n",
       "      <th>2</th>\n",
       "      <td>8454884369838</td>\n",
       "      <td>Mr.</td>\n",
       "      <td>Craig</td>\n",
       "      <td>Davis</td>\n",
       "      <td>38</td>\n",
       "      <td>EH8W 2QJ</td>\n",
       "      <td>Divorced</td>\n",
       "      <td>HS-grad</td>\n",
       "      <td>Armed forces training and education officer</td>\n",
       "      <td>12</td>\n",
       "      <td>12</td>\n",
       "      <td>5</td>\n",
       "      <td>4</td>\n",
       "      <td>1</td>\n",
       "      <td>smithvanessa@coles.org</td>\n",
       "      <td>No</td>\n",
       "    </tr>\n",
       "    <tr>\n",
       "      <th>3</th>\n",
       "      <td>5781315494498</td>\n",
       "      <td>Mr.</td>\n",
       "      <td>Brandon</td>\n",
       "      <td>Thornton</td>\n",
       "      <td>53</td>\n",
       "      <td>EH2 5UE</td>\n",
       "      <td>Married-civ-spouse</td>\n",
       "      <td>11th</td>\n",
       "      <td>Facilities assistant</td>\n",
       "      <td>1</td>\n",
       "      <td>9</td>\n",
       "      <td>9</td>\n",
       "      <td>2</td>\n",
       "      <td>0</td>\n",
       "      <td>sbarrett@hart.biz</td>\n",
       "      <td>No</td>\n",
       "    </tr>\n",
       "    <tr>\n",
       "      <th>4</th>\n",
       "      <td>8687486791428</td>\n",
       "      <td>Miss</td>\n",
       "      <td>Brett</td>\n",
       "      <td>Fletcher</td>\n",
       "      <td>28</td>\n",
       "      <td>SN19 0PU</td>\n",
       "      <td>Married-civ-spouse</td>\n",
       "      <td>Bachelors</td>\n",
       "      <td>Information systems manager</td>\n",
       "      <td>12</td>\n",
       "      <td>17</td>\n",
       "      <td>8</td>\n",
       "      <td>9</td>\n",
       "      <td>1</td>\n",
       "      <td>lparkinson@butler.com</td>\n",
       "      <td>No</td>\n",
       "    </tr>\n",
       "  </tbody>\n",
       "</table>\n",
       "</div>"
      ],
      "text/plain": [
       "   participant_id name_title first_name last_name  age  postcode  \\\n",
       "0   8997001834838        Mr.       Dale     Coles   39   EH4 9FL   \n",
       "1   2764968366919        NaN       Joel     Allen   50  LS5H 0JG   \n",
       "2   8454884369838        Mr.      Craig     Davis   38  EH8W 2QJ   \n",
       "3   5781315494498        Mr.    Brandon  Thornton   53   EH2 5UE   \n",
       "4   8687486791428       Miss      Brett  Fletcher   28  SN19 0PU   \n",
       "\n",
       "       marital_status  education                                    job_title  \\\n",
       "0       Never-married  Bachelors               Furniture conservator/restorer   \n",
       "1  Married-civ-spouse  Bachelors                        Administrator, sports   \n",
       "2            Divorced    HS-grad  Armed forces training and education officer   \n",
       "3  Married-civ-spouse       11th                         Facilities assistant   \n",
       "4  Married-civ-spouse  Bachelors                  Information systems manager   \n",
       "\n",
       "   occupation_level  education_num  familiarity_nw  view_nw  \\\n",
       "0                 1             17               7        9   \n",
       "1                 4             17               9        6   \n",
       "2                12             12               5        4   \n",
       "3                 1              9               9        2   \n",
       "4                12             17               8        9   \n",
       "\n",
       "   interested_insurance           company_email created_account  \n",
       "0                     0       jrhodes@jones.com              No  \n",
       "1                     1     william32@carey.com              No  \n",
       "2                     1  smithvanessa@coles.org              No  \n",
       "3                     0       sbarrett@hart.biz              No  \n",
       "4                     1   lparkinson@butler.com              No  "
      ]
     },
     "execution_count": 384,
     "metadata": {},
     "output_type": "execute_result"
    }
   ],
   "source": [
    "campaign_df.head()"
   ]
  },
  {
   "cell_type": "code",
   "execution_count": 385,
   "id": "810e79b6-2913-4fa5-8a21-a381688e8ef2",
   "metadata": {},
   "outputs": [
    {
     "data": {
      "text/plain": [
       "NaN    29033\n",
       "No      2787\n",
       "Yes      240\n",
       "Name: created_account, dtype: int64"
      ]
     },
     "execution_count": 385,
     "metadata": {},
     "output_type": "execute_result"
    }
   ],
   "source": [
    "# Check counts of labels\n",
    "campaign_df.created_account.value_counts(dropna=False)"
   ]
  },
  {
   "cell_type": "markdown",
   "id": "b953504e-7b30-4bba-9806-4c28d77c9602",
   "metadata": {},
   "source": [
    "So we only have about 10% labelled data and the data is unbalanced. I will need to get creative here aboout how is best to split everything up."
   ]
  },
  {
   "cell_type": "code",
   "execution_count": 386,
   "id": "f8d46d3b-39ab-4be6-8dc4-999549c648b8",
   "metadata": {},
   "outputs": [],
   "source": [
    "# Drop irrelevant columns\n",
    "irrel_cols = ['name_title', 'first_name', 'last_name', 'postcode', 'company_email']\n",
    "campaign_df = campaign_df.drop(irrel_cols, axis=1)"
   ]
  },
  {
   "cell_type": "code",
   "execution_count": 387,
   "id": "ac773b3d-5cf4-44ef-92a8-4fb58a174657",
   "metadata": {},
   "outputs": [],
   "source": [
    "# Drop categorical cols which have been engineering into numerical already\n",
    "dup_cols = ['education', 'job_title']\n",
    "campaign_df = campaign_df.drop(dup_cols, axis=1)"
   ]
  },
  {
   "cell_type": "code",
   "execution_count": 388,
   "id": "7a3e7c95-5d3f-4eb4-82d6-98b035dfdac7",
   "metadata": {},
   "outputs": [
    {
     "data": {
      "text/html": [
       "<div>\n",
       "<style scoped>\n",
       "    .dataframe tbody tr th:only-of-type {\n",
       "        vertical-align: middle;\n",
       "    }\n",
       "\n",
       "    .dataframe tbody tr th {\n",
       "        vertical-align: top;\n",
       "    }\n",
       "\n",
       "    .dataframe thead th {\n",
       "        text-align: right;\n",
       "    }\n",
       "</style>\n",
       "<table border=\"1\" class=\"dataframe\">\n",
       "  <thead>\n",
       "    <tr style=\"text-align: right;\">\n",
       "      <th></th>\n",
       "      <th>participant_id</th>\n",
       "      <th>age</th>\n",
       "      <th>marital_status</th>\n",
       "      <th>occupation_level</th>\n",
       "      <th>education_num</th>\n",
       "      <th>familiarity_nw</th>\n",
       "      <th>view_nw</th>\n",
       "      <th>interested_insurance</th>\n",
       "      <th>created_account</th>\n",
       "    </tr>\n",
       "  </thead>\n",
       "  <tbody>\n",
       "    <tr>\n",
       "      <th>0</th>\n",
       "      <td>8997001834838</td>\n",
       "      <td>39</td>\n",
       "      <td>Never-married</td>\n",
       "      <td>1</td>\n",
       "      <td>17</td>\n",
       "      <td>7</td>\n",
       "      <td>9</td>\n",
       "      <td>0</td>\n",
       "      <td>No</td>\n",
       "    </tr>\n",
       "    <tr>\n",
       "      <th>1</th>\n",
       "      <td>2764968366919</td>\n",
       "      <td>50</td>\n",
       "      <td>Married-civ-spouse</td>\n",
       "      <td>4</td>\n",
       "      <td>17</td>\n",
       "      <td>9</td>\n",
       "      <td>6</td>\n",
       "      <td>1</td>\n",
       "      <td>No</td>\n",
       "    </tr>\n",
       "    <tr>\n",
       "      <th>2</th>\n",
       "      <td>8454884369838</td>\n",
       "      <td>38</td>\n",
       "      <td>Divorced</td>\n",
       "      <td>12</td>\n",
       "      <td>12</td>\n",
       "      <td>5</td>\n",
       "      <td>4</td>\n",
       "      <td>1</td>\n",
       "      <td>No</td>\n",
       "    </tr>\n",
       "    <tr>\n",
       "      <th>3</th>\n",
       "      <td>5781315494498</td>\n",
       "      <td>53</td>\n",
       "      <td>Married-civ-spouse</td>\n",
       "      <td>1</td>\n",
       "      <td>9</td>\n",
       "      <td>9</td>\n",
       "      <td>2</td>\n",
       "      <td>0</td>\n",
       "      <td>No</td>\n",
       "    </tr>\n",
       "    <tr>\n",
       "      <th>4</th>\n",
       "      <td>8687486791428</td>\n",
       "      <td>28</td>\n",
       "      <td>Married-civ-spouse</td>\n",
       "      <td>12</td>\n",
       "      <td>17</td>\n",
       "      <td>8</td>\n",
       "      <td>9</td>\n",
       "      <td>1</td>\n",
       "      <td>No</td>\n",
       "    </tr>\n",
       "  </tbody>\n",
       "</table>\n",
       "</div>"
      ],
      "text/plain": [
       "   participant_id  age      marital_status  occupation_level  education_num  \\\n",
       "0   8997001834838   39       Never-married                 1             17   \n",
       "1   2764968366919   50  Married-civ-spouse                 4             17   \n",
       "2   8454884369838   38            Divorced                12             12   \n",
       "3   5781315494498   53  Married-civ-spouse                 1              9   \n",
       "4   8687486791428   28  Married-civ-spouse                12             17   \n",
       "\n",
       "   familiarity_nw  view_nw  interested_insurance created_account  \n",
       "0               7        9                     0              No  \n",
       "1               9        6                     1              No  \n",
       "2               5        4                     1              No  \n",
       "3               9        2                     0              No  \n",
       "4               8        9                     1              No  "
      ]
     },
     "execution_count": 388,
     "metadata": {},
     "output_type": "execute_result"
    }
   ],
   "source": [
    "campaign_df.head()"
   ]
  },
  {
   "cell_type": "markdown",
   "id": "2fbc9b72-ef9d-42f8-b981-37967a9b5d7c",
   "metadata": {},
   "source": [
    "If we're building a model that will predict customers from our backbook that will take out an extra product then we can really only use features that we will already have on file. A lot of the features from the campaign wont be features that we have on file - so will need to use features primarilty from the mortgages table. However, I bet the features from the campaign are really useful and can be used to generate the right hand side for subsequent training of the back book model."
   ]
  },
  {
   "cell_type": "code",
   "execution_count": 389,
   "id": "25663179-99a6-4b9f-a924-a6a17429488a",
   "metadata": {},
   "outputs": [
    {
     "name": "stderr",
     "output_type": "stream",
     "text": [
      "C:\\Users\\josep\\AppData\\Local\\Temp\\ipykernel_10016\\2754180502.py:3: SettingWithCopyWarning: \n",
      "A value is trying to be set on a copy of a slice from a DataFrame.\n",
      "Try using .loc[row_indexer,col_indexer] = value instead\n",
      "\n",
      "See the caveats in the documentation: https://pandas.pydata.org/pandas-docs/stable/user_guide/indexing.html#returning-a-view-versus-a-copy\n",
      "  campaign_train['created_account'] = campaign_train.created_account.map({'Yes': 1, 'No': 0})\n",
      "C:\\Users\\josep\\AppData\\Local\\Temp\\ipykernel_10016\\2754180502.py:4: SettingWithCopyWarning: \n",
      "A value is trying to be set on a copy of a slice from a DataFrame.\n",
      "Try using .loc[row_indexer,col_indexer] = value instead\n",
      "\n",
      "See the caveats in the documentation: https://pandas.pydata.org/pandas-docs/stable/user_guide/indexing.html#returning-a-view-versus-a-copy\n",
      "  campaign_train['predicted'] = 0\n",
      "C:\\Users\\josep\\AppData\\Local\\Temp\\ipykernel_10016\\2754180502.py:7: SettingWithCopyWarning: \n",
      "A value is trying to be set on a copy of a slice from a DataFrame.\n",
      "Try using .loc[row_indexer,col_indexer] = value instead\n",
      "\n",
      "See the caveats in the documentation: https://pandas.pydata.org/pandas-docs/stable/user_guide/indexing.html#returning-a-view-versus-a-copy\n",
      "  campaign_null['predicted'] = 1\n"
     ]
    }
   ],
   "source": [
    "# Separate campaign into training set and set to be predicted\n",
    "campaign_train = campaign_df.dropna(subset='created_account')\n",
    "campaign_train['created_account'] = campaign_train.created_account.map({'Yes': 1, 'No': 0})\n",
    "campaign_train['predicted'] = 0\n",
    "\n",
    "campaign_null = campaign_df.query(\"created_account.isna()\")\n",
    "campaign_null['predicted'] = 1"
   ]
  },
  {
   "cell_type": "markdown",
   "id": "17ed1d9c-a20f-4ff7-8e10-cba7682d8678",
   "metadata": {},
   "source": [
    "### Explore Campaign Features"
   ]
  },
  {
   "cell_type": "code",
   "execution_count": 390,
   "id": "1ef70c9e-202f-43f3-acfb-621e25fa125d",
   "metadata": {},
   "outputs": [
    {
     "data": {
      "text/plain": [
       "<AxesSubplot: xlabel='age', ylabel='Density'>"
      ]
     },
     "execution_count": 390,
     "metadata": {},
     "output_type": "execute_result"
    },
    {
     "data": {
      "image/png": "[encoded data removed]",
      "text/plain": [
       "<Figure size 640x480 with 1 Axes>"
      ]
     },
     "metadata": {},
     "output_type": "display_data"
    }
   ],
   "source": [
    "# Age\n",
    "sns.histplot(data=campaign_train, x='age', hue='created_account', common_norm=False, stat='density')"
   ]
  },
  {
   "cell_type": "markdown",
   "id": "78b2acb0-c262-446c-8933-48a8c67bcd24",
   "metadata": {},
   "source": [
    "We do see that people who are older tend to be more interested in taking out home insurance - this will probably be an important feature."
   ]
  },
  {
   "cell_type": "code",
   "execution_count": 391,
   "id": "19b70467-d40a-4dfc-93e0-3d8436539d27",
   "metadata": {},
   "outputs": [
    {
     "data": {
      "text/html": [
       "<div>\n",
       "<style scoped>\n",
       "    .dataframe tbody tr th:only-of-type {\n",
       "        vertical-align: middle;\n",
       "    }\n",
       "\n",
       "    .dataframe tbody tr th {\n",
       "        vertical-align: top;\n",
       "    }\n",
       "\n",
       "    .dataframe thead th {\n",
       "        text-align: right;\n",
       "    }\n",
       "</style>\n",
       "<table border=\"1\" class=\"dataframe\">\n",
       "  <thead>\n",
       "    <tr style=\"text-align: right;\">\n",
       "      <th></th>\n",
       "      <th>created_account</th>\n",
       "    </tr>\n",
       "    <tr>\n",
       "      <th>marital_status</th>\n",
       "      <th></th>\n",
       "    </tr>\n",
       "  </thead>\n",
       "  <tbody>\n",
       "    <tr>\n",
       "      <th>Married-AF-spouse</th>\n",
       "      <td>0.000000</td>\n",
       "    </tr>\n",
       "    <tr>\n",
       "      <th>Separated</th>\n",
       "      <td>0.010870</td>\n",
       "    </tr>\n",
       "    <tr>\n",
       "      <th>Never-married</th>\n",
       "      <td>0.012097</td>\n",
       "    </tr>\n",
       "    <tr>\n",
       "      <th>Widowed</th>\n",
       "      <td>0.019417</td>\n",
       "    </tr>\n",
       "    <tr>\n",
       "      <th>Divorced</th>\n",
       "      <td>0.024096</td>\n",
       "    </tr>\n",
       "    <tr>\n",
       "      <th>Married-spouse-absent</th>\n",
       "      <td>0.046512</td>\n",
       "    </tr>\n",
       "    <tr>\n",
       "      <th>Married-civ-spouse</th>\n",
       "      <td>0.154460</td>\n",
       "    </tr>\n",
       "  </tbody>\n",
       "</table>\n",
       "</div>"
      ],
      "text/plain": [
       "                       created_account\n",
       "marital_status                        \n",
       "Married-AF-spouse             0.000000\n",
       "Separated                     0.010870\n",
       "Never-married                 0.012097\n",
       "Widowed                       0.019417\n",
       "Divorced                      0.024096\n",
       "Married-spouse-absent         0.046512\n",
       "Married-civ-spouse            0.154460"
      ]
     },
     "execution_count": 391,
     "metadata": {},
     "output_type": "execute_result"
    }
   ],
   "source": [
    "# Marital status\n",
    "campaign_train.pivot_table(index='marital_status', values='created_account').sort_values(by='created_account')"
   ]
  },
  {
   "cell_type": "markdown",
   "id": "e25813ab-f874-43ce-b8c9-38f83f831351",
   "metadata": {},
   "source": [
    "I don't like this feature - there doesn't seem to be a clear explainable relationship here so I'm tempted to ignore unless we get really bad results."
   ]
  },
  {
   "cell_type": "code",
   "execution_count": 392,
   "id": "55ed1535-e0d2-43bb-84bf-16b594392788",
   "metadata": {},
   "outputs": [
    {
     "data": {
      "text/plain": [
       "<AxesSubplot: xlabel='education_num', ylabel='Density'>"
      ]
     },
     "execution_count": 392,
     "metadata": {},
     "output_type": "execute_result"
    },
    {
     "data": {
      "image/png": "[encoded data removed]",
      "text/plain": [
       "<Figure size 640x480 with 1 Axes>"
      ]
     },
     "metadata": {},
     "output_type": "display_data"
    }
   ],
   "source": [
    "# Education num - ignore education level as these two features will be a proxy\n",
    "sns.histplot(data=campaign_train, x='education_num', hue='created_account', common_norm=False, stat='density')"
   ]
  },
  {
   "cell_type": "markdown",
   "id": "a02337b2-d5b7-44a1-83b5-3af356d315de",
   "metadata": {},
   "source": [
    "Certainly seeing something where people of a higher education (>15) tend to be more likely to take out the product. "
   ]
  },
  {
   "cell_type": "code",
   "execution_count": 393,
   "id": "b0799e89-0bf2-4c31-9670-8449eca46a5b",
   "metadata": {},
   "outputs": [
    {
     "data": {
      "text/plain": [
       "<AxesSubplot: xlabel='occupation_level', ylabel='Density'>"
      ]
     },
     "execution_count": 393,
     "metadata": {},
     "output_type": "execute_result"
    },
    {
     "data": {
      "image/png": "[encoded data removed]",
      "text/plain": [
       "<Figure size 640x480 with 1 Axes>"
      ]
     },
     "metadata": {},
     "output_type": "display_data"
    }
   ],
   "source": [
    "# Occupation num\n",
    "sns.histplot(data=campaign_train, x='occupation_level', bins=20, hue='created_account', common_norm=False, stat='density')"
   ]
  },
  {
   "cell_type": "markdown",
   "id": "0566f814-e48b-402c-bd73-d28ec6bdea5c",
   "metadata": {},
   "source": [
    "Again - people with a higher occupation level tend to be likely to take out the product so can use.\n",
    "\n",
    "---"
   ]
  },
  {
   "cell_type": "code",
   "execution_count": 394,
   "id": "131fa989-a873-4f34-bfb1-a94165cda8fa",
   "metadata": {},
   "outputs": [
    {
     "data": {
      "text/plain": [
       "<AxesSubplot: xlabel='familiarity_nw', ylabel='Density'>"
      ]
     },
     "execution_count": 394,
     "metadata": {},
     "output_type": "execute_result"
    },
    {
     "data": {
      "image/png": "[encoded data removed]",
      "text/plain": [
       "<Figure size 640x480 with 1 Axes>"
      ]
     },
     "metadata": {},
     "output_type": "display_data"
    }
   ],
   "source": [
    "# Occupation num\n",
    "sns.histplot(data=campaign_train, x='familiarity_nw', bins=10, hue='created_account', common_norm=False, stat='density')"
   ]
  },
  {
   "cell_type": "markdown",
   "id": "9883036c-ccc1-458c-a790-d0721236e60d",
   "metadata": {},
   "source": [
    "Not seeing a lot here\n",
    "\n",
    "---"
   ]
  },
  {
   "cell_type": "code",
   "execution_count": 395,
   "id": "b49b0c4e-d221-4abc-8449-0a8c07f95413",
   "metadata": {},
   "outputs": [
    {
     "data": {
      "text/plain": [
       "<AxesSubplot: xlabel='view_nw', ylabel='Density'>"
      ]
     },
     "execution_count": 395,
     "metadata": {},
     "output_type": "execute_result"
    },
    {
     "data": {
      "image/png": "[encoded data removed]",
      "text/plain": [
       "<Figure size 640x480 with 1 Axes>"
      ]
     },
     "metadata": {},
     "output_type": "display_data"
    }
   ],
   "source": [
    "# Occupation num\n",
    "sns.histplot(data=campaign_train, x='view_nw', bins=10, hue='created_account', common_norm=False, stat='density')"
   ]
  },
  {
   "cell_type": "markdown",
   "id": "a09e8f9a-c961-44c2-95c9-63747344dab5",
   "metadata": {},
   "source": [
    "Some suggestion that those with a high view will"
   ]
  },
  {
   "cell_type": "code",
   "execution_count": 396,
   "id": "7950386d-b183-49ba-bfb9-6d1aa40f2ac4",
   "metadata": {},
   "outputs": [
    {
     "data": {
      "text/html": [
       "<div>\n",
       "<style scoped>\n",
       "    .dataframe tbody tr th:only-of-type {\n",
       "        vertical-align: middle;\n",
       "    }\n",
       "\n",
       "    .dataframe tbody tr th {\n",
       "        vertical-align: top;\n",
       "    }\n",
       "\n",
       "    .dataframe thead th {\n",
       "        text-align: right;\n",
       "    }\n",
       "</style>\n",
       "<table border=\"1\" class=\"dataframe\">\n",
       "  <thead>\n",
       "    <tr style=\"text-align: right;\">\n",
       "      <th></th>\n",
       "      <th>created_account</th>\n",
       "    </tr>\n",
       "    <tr>\n",
       "      <th>interested_insurance</th>\n",
       "      <th></th>\n",
       "    </tr>\n",
       "  </thead>\n",
       "  <tbody>\n",
       "    <tr>\n",
       "      <th>0</th>\n",
       "      <td>0.048295</td>\n",
       "    </tr>\n",
       "    <tr>\n",
       "      <th>1</th>\n",
       "      <td>0.122336</td>\n",
       "    </tr>\n",
       "  </tbody>\n",
       "</table>\n",
       "</div>"
      ],
      "text/plain": [
       "                      created_account\n",
       "interested_insurance                 \n",
       "0                            0.048295\n",
       "1                            0.122336"
      ]
     },
     "execution_count": 396,
     "metadata": {},
     "output_type": "execute_result"
    }
   ],
   "source": [
    "campaign_train.pivot_table(index='interested_insurance', values='created_account')"
   ]
  },
  {
   "cell_type": "markdown",
   "id": "804098a7-e6ad-45e2-9035-d28ee684f3d3",
   "metadata": {},
   "source": [
    "Again - people who are interested in insurance are more likely to take it out."
   ]
  },
  {
   "cell_type": "markdown",
   "id": "4b9e089d-9e4c-4279-b3de-90c66d710c65",
   "metadata": {},
   "source": [
    "### Campaign Model Selection\n",
    "\n",
    "We are not trying to build a model that generalises well here, we want a model that overfits to this small dataset because we are just trying to construct a set of rules which will hopefully select with some decent accuracy the RHS for our later model.\n",
    "\n",
    "Going to do this cross-validated as we have a very small dataset."
   ]
  },
  {
   "cell_type": "code",
   "execution_count": 397,
   "id": "4d25c549-1109-47fc-a320-bf30722a7c6b",
   "metadata": {},
   "outputs": [],
   "source": [
    "from sklearn.tree import DecisionTreeClassifier\n",
    "from sklearn.ensemble import RandomForestClassifier\n",
    "from sklearn.model_selection import cross_val_score"
   ]
  },
  {
   "cell_type": "code",
   "execution_count": 398,
   "id": "079fe0d2-5cbd-4839-93ef-06220905f731",
   "metadata": {},
   "outputs": [],
   "source": [
    "X, y = campaign_train.drop(['participant_id', 'created_account', 'predicted'], axis=1), campaign_train['created_account']"
   ]
  },
  {
   "cell_type": "code",
   "execution_count": 399,
   "id": "a87a8926-4074-4873-9eff-6ca30a6873c0",
   "metadata": {},
   "outputs": [
    {
     "data": {
      "text/html": [
       "<div>\n",
       "<style scoped>\n",
       "    .dataframe tbody tr th:only-of-type {\n",
       "        vertical-align: middle;\n",
       "    }\n",
       "\n",
       "    .dataframe tbody tr th {\n",
       "        vertical-align: top;\n",
       "    }\n",
       "\n",
       "    .dataframe thead th {\n",
       "        text-align: right;\n",
       "    }\n",
       "</style>\n",
       "<table border=\"1\" class=\"dataframe\">\n",
       "  <thead>\n",
       "    <tr style=\"text-align: right;\">\n",
       "      <th></th>\n",
       "      <th>age</th>\n",
       "      <th>marital_status</th>\n",
       "      <th>occupation_level</th>\n",
       "      <th>education_num</th>\n",
       "      <th>familiarity_nw</th>\n",
       "      <th>view_nw</th>\n",
       "      <th>interested_insurance</th>\n",
       "    </tr>\n",
       "  </thead>\n",
       "  <tbody>\n",
       "    <tr>\n",
       "      <th>0</th>\n",
       "      <td>39</td>\n",
       "      <td>Never-married</td>\n",
       "      <td>1</td>\n",
       "      <td>17</td>\n",
       "      <td>7</td>\n",
       "      <td>9</td>\n",
       "      <td>0</td>\n",
       "    </tr>\n",
       "    <tr>\n",
       "      <th>1</th>\n",
       "      <td>50</td>\n",
       "      <td>Married-civ-spouse</td>\n",
       "      <td>4</td>\n",
       "      <td>17</td>\n",
       "      <td>9</td>\n",
       "      <td>6</td>\n",
       "      <td>1</td>\n",
       "    </tr>\n",
       "    <tr>\n",
       "      <th>2</th>\n",
       "      <td>38</td>\n",
       "      <td>Divorced</td>\n",
       "      <td>12</td>\n",
       "      <td>12</td>\n",
       "      <td>5</td>\n",
       "      <td>4</td>\n",
       "      <td>1</td>\n",
       "    </tr>\n",
       "    <tr>\n",
       "      <th>3</th>\n",
       "      <td>53</td>\n",
       "      <td>Married-civ-spouse</td>\n",
       "      <td>1</td>\n",
       "      <td>9</td>\n",
       "      <td>9</td>\n",
       "      <td>2</td>\n",
       "      <td>0</td>\n",
       "    </tr>\n",
       "    <tr>\n",
       "      <th>4</th>\n",
       "      <td>28</td>\n",
       "      <td>Married-civ-spouse</td>\n",
       "      <td>12</td>\n",
       "      <td>17</td>\n",
       "      <td>8</td>\n",
       "      <td>9</td>\n",
       "      <td>1</td>\n",
       "    </tr>\n",
       "    <tr>\n",
       "      <th>...</th>\n",
       "      <td>...</td>\n",
       "      <td>...</td>\n",
       "      <td>...</td>\n",
       "      <td>...</td>\n",
       "      <td>...</td>\n",
       "      <td>...</td>\n",
       "      <td>...</td>\n",
       "    </tr>\n",
       "    <tr>\n",
       "      <th>3022</th>\n",
       "      <td>51</td>\n",
       "      <td>Married-civ-spouse</td>\n",
       "      <td>12</td>\n",
       "      <td>17</td>\n",
       "      <td>3</td>\n",
       "      <td>6</td>\n",
       "      <td>0</td>\n",
       "    </tr>\n",
       "    <tr>\n",
       "      <th>3023</th>\n",
       "      <td>38</td>\n",
       "      <td>Never-married</td>\n",
       "      <td>2</td>\n",
       "      <td>8</td>\n",
       "      <td>5</td>\n",
       "      <td>7</td>\n",
       "      <td>1</td>\n",
       "    </tr>\n",
       "    <tr>\n",
       "      <th>3024</th>\n",
       "      <td>24</td>\n",
       "      <td>Never-married</td>\n",
       "      <td>2</td>\n",
       "      <td>12</td>\n",
       "      <td>1</td>\n",
       "      <td>8</td>\n",
       "      <td>0</td>\n",
       "    </tr>\n",
       "    <tr>\n",
       "      <th>3025</th>\n",
       "      <td>45</td>\n",
       "      <td>Married-civ-spouse</td>\n",
       "      <td>6</td>\n",
       "      <td>12</td>\n",
       "      <td>4</td>\n",
       "      <td>2</td>\n",
       "      <td>1</td>\n",
       "    </tr>\n",
       "    <tr>\n",
       "      <th>3026</th>\n",
       "      <td>28</td>\n",
       "      <td>Married-civ-spouse</td>\n",
       "      <td>14</td>\n",
       "      <td>12</td>\n",
       "      <td>5</td>\n",
       "      <td>9</td>\n",
       "      <td>1</td>\n",
       "    </tr>\n",
       "  </tbody>\n",
       "</table>\n",
       "<p>3027 rows × 7 columns</p>\n",
       "</div>"
      ],
      "text/plain": [
       "      age      marital_status  occupation_level  education_num  \\\n",
       "0      39       Never-married                 1             17   \n",
       "1      50  Married-civ-spouse                 4             17   \n",
       "2      38            Divorced                12             12   \n",
       "3      53  Married-civ-spouse                 1              9   \n",
       "4      28  Married-civ-spouse                12             17   \n",
       "...   ...                 ...               ...            ...   \n",
       "3022   51  Married-civ-spouse                12             17   \n",
       "3023   38       Never-married                 2              8   \n",
       "3024   24       Never-married                 2             12   \n",
       "3025   45  Married-civ-spouse                 6             12   \n",
       "3026   28  Married-civ-spouse                14             12   \n",
       "\n",
       "      familiarity_nw  view_nw  interested_insurance  \n",
       "0                  7        9                     0  \n",
       "1                  9        6                     1  \n",
       "2                  5        4                     1  \n",
       "3                  9        2                     0  \n",
       "4                  8        9                     1  \n",
       "...              ...      ...                   ...  \n",
       "3022               3        6                     0  \n",
       "3023               5        7                     1  \n",
       "3024               1        8                     0  \n",
       "3025               4        2                     1  \n",
       "3026               5        9                     1  \n",
       "\n",
       "[3027 rows x 7 columns]"
      ]
     },
     "execution_count": 399,
     "metadata": {},
     "output_type": "execute_result"
    }
   ],
   "source": [
    "X"
   ]
  },
  {
   "cell_type": "code",
   "execution_count": 421,
   "id": "d2720609-5c32-4f6e-a7f5-311de5815d9b",
   "metadata": {},
   "outputs": [],
   "source": [
    "# One hot encode the marital status\n",
    "X = pd.get_dummies(X)"
   ]
  },
  {
   "cell_type": "code",
   "execution_count": 423,
   "id": "c0625e04-1074-4a2b-9431-f866d58d5251",
   "metadata": {},
   "outputs": [],
   "source": [
    "CAMPAIGN_FEATURES_FINAL = X.columns.to_list()"
   ]
  },
  {
   "cell_type": "code",
   "execution_count": 416,
   "id": "bb1493b6-eede-4003-bceb-b591c2d5ca6c",
   "metadata": {},
   "outputs": [
    {
     "data": {
      "text/plain": [
       "0.31294934353757886"
      ]
     },
     "execution_count": 416,
     "metadata": {},
     "output_type": "execute_result"
    }
   ],
   "source": [
    "# Test performance of random forest \n",
    "random_forest = RandomForestClassifier()\n",
    "rf_score = cross_val_score(random_forest, X, y, scoring='f1').mean()\n",
    "rf_score"
   ]
  },
  {
   "cell_type": "code",
   "execution_count": 403,
   "id": "2a855ceb-5af0-4857-9881-325f6fcf1c3b",
   "metadata": {},
   "outputs": [
    {
     "data": {
      "text/html": [
       "<div>\n",
       "<style scoped>\n",
       "    .dataframe tbody tr th:only-of-type {\n",
       "        vertical-align: middle;\n",
       "    }\n",
       "\n",
       "    .dataframe tbody tr th {\n",
       "        vertical-align: top;\n",
       "    }\n",
       "\n",
       "    .dataframe thead th {\n",
       "        text-align: right;\n",
       "    }\n",
       "</style>\n",
       "<table border=\"1\" class=\"dataframe\">\n",
       "  <thead>\n",
       "    <tr style=\"text-align: right;\">\n",
       "      <th></th>\n",
       "      <th>0</th>\n",
       "      <th>1</th>\n",
       "    </tr>\n",
       "  </thead>\n",
       "  <tbody>\n",
       "    <tr>\n",
       "      <th>1</th>\n",
       "      <td>occupation_level</td>\n",
       "      <td>0.230327</td>\n",
       "    </tr>\n",
       "    <tr>\n",
       "      <th>0</th>\n",
       "      <td>age</td>\n",
       "      <td>0.215624</td>\n",
       "    </tr>\n",
       "    <tr>\n",
       "      <th>4</th>\n",
       "      <td>view_nw</td>\n",
       "      <td>0.156393</td>\n",
       "    </tr>\n",
       "    <tr>\n",
       "      <th>2</th>\n",
       "      <td>education_num</td>\n",
       "      <td>0.155393</td>\n",
       "    </tr>\n",
       "    <tr>\n",
       "      <th>3</th>\n",
       "      <td>familiarity_nw</td>\n",
       "      <td>0.143739</td>\n",
       "    </tr>\n",
       "    <tr>\n",
       "      <th>8</th>\n",
       "      <td>marital_status_Married-civ-spouse</td>\n",
       "      <td>0.039190</td>\n",
       "    </tr>\n",
       "    <tr>\n",
       "      <th>5</th>\n",
       "      <td>interested_insurance</td>\n",
       "      <td>0.035052</td>\n",
       "    </tr>\n",
       "    <tr>\n",
       "      <th>10</th>\n",
       "      <td>marital_status_Never-married</td>\n",
       "      <td>0.011028</td>\n",
       "    </tr>\n",
       "    <tr>\n",
       "      <th>6</th>\n",
       "      <td>marital_status_Divorced</td>\n",
       "      <td>0.008110</td>\n",
       "    </tr>\n",
       "    <tr>\n",
       "      <th>12</th>\n",
       "      <td>marital_status_Widowed</td>\n",
       "      <td>0.001980</td>\n",
       "    </tr>\n",
       "    <tr>\n",
       "      <th>9</th>\n",
       "      <td>marital_status_Married-spouse-absent</td>\n",
       "      <td>0.001658</td>\n",
       "    </tr>\n",
       "    <tr>\n",
       "      <th>11</th>\n",
       "      <td>marital_status_Separated</td>\n",
       "      <td>0.001507</td>\n",
       "    </tr>\n",
       "    <tr>\n",
       "      <th>7</th>\n",
       "      <td>marital_status_Married-AF-spouse</td>\n",
       "      <td>0.000001</td>\n",
       "    </tr>\n",
       "  </tbody>\n",
       "</table>\n",
       "</div>"
      ],
      "text/plain": [
       "                                       0         1\n",
       "1                       occupation_level  0.230327\n",
       "0                                    age  0.215624\n",
       "4                                view_nw  0.156393\n",
       "2                          education_num  0.155393\n",
       "3                         familiarity_nw  0.143739\n",
       "8      marital_status_Married-civ-spouse  0.039190\n",
       "5                   interested_insurance  0.035052\n",
       "10          marital_status_Never-married  0.011028\n",
       "6                marital_status_Divorced  0.008110\n",
       "12                marital_status_Widowed  0.001980\n",
       "9   marital_status_Married-spouse-absent  0.001658\n",
       "11              marital_status_Separated  0.001507\n",
       "7       marital_status_Married-AF-spouse  0.000001"
      ]
     },
     "execution_count": 403,
     "metadata": {},
     "output_type": "execute_result"
    }
   ],
   "source": [
    "# Look at most important features\n",
    "random_forest.fit(X, y)\n",
    "feature_importances = random_forest.feature_importances_\n",
    "feature_names = X.columns\n",
    "pd.DataFrame(zip(feature_names, feature_importances)).sort_values(by=1, ascending=False)"
   ]
  },
  {
   "cell_type": "markdown",
   "id": "5b8c3d91-7190-4d02-b10c-6e2617d465a2",
   "metadata": {},
   "source": [
    "Next I will tune hyperparameters."
   ]
  },
  {
   "cell_type": "code",
   "execution_count": 405,
   "id": "006e2989-fdf0-4157-8bcc-b562593801a6",
   "metadata": {},
   "outputs": [],
   "source": [
    "rdm_fst_grid = {\n",
    "    'bootstrap': [True, False],\n",
    "    'max_depth': [10, 20, 30, 40, 50, None],\n",
    "    'min_samples_leaf': [1, 2, 4, 6, 10, 20],\n",
    "    'min_samples_split': [2, 5, 10],\n",
    "    'n_estimators': [100, 200, 300, 400, 500]\n",
    "}"
   ]
  },
  {
   "cell_type": "code",
   "execution_count": 412,
   "id": "7c8ba208-302e-4157-a80b-1f6c23df2011",
   "metadata": {},
   "outputs": [
    {
     "name": "stdout",
     "output_type": "stream",
     "text": [
      "Fitting 3 folds for each of 50 candidates, totalling 150 fits\n"
     ]
    },
    {
     "data": {
      "text/html": [
       "<style>#sk-container-id-16 {color: black;background-color: white;}#sk-container-id-16 pre{padding: 0;}#sk-container-id-16 div.sk-toggleable {background-color: white;}#sk-container-id-16 label.sk-toggleable__label {cursor: pointer;display: block;width: 100%;margin-bottom: 0;padding: 0.3em;box-sizing: border-box;text-align: center;}#sk-container-id-16 label.sk-toggleable__label-arrow:before {content: \"▸\";float: left;margin-right: 0.25em;color: #696969;}#sk-container-id-16 label.sk-toggleable__label-arrow:hover:before {color: black;}#sk-container-id-16 div.sk-estimator:hover label.sk-toggleable__label-arrow:before {color: black;}#sk-container-id-16 div.sk-toggleable__content {max-height: 0;max-width: 0;overflow: hidden;text-align: left;background-color: #f0f8ff;}#sk-container-id-16 div.sk-toggleable__content pre {margin: 0.2em;color: black;border-radius: 0.25em;background-color: #f0f8ff;}#sk-container-id-16 input.sk-toggleable__control:checked~div.sk-toggleable__content {max-height: 200px;max-width: 100%;overflow: auto;}#sk-container-id-16 input.sk-toggleable__control:checked~label.sk-toggleable__label-arrow:before {content: \"▾\";}#sk-container-id-16 div.sk-estimator input.sk-toggleable__control:checked~label.sk-toggleable__label {background-color: #d4ebff;}#sk-container-id-16 div.sk-label input.sk-toggleable__control:checked~label.sk-toggleable__label {background-color: #d4ebff;}#sk-container-id-16 input.sk-hidden--visually {border: 0;clip: rect(1px 1px 1px 1px);clip: rect(1px, 1px, 1px, 1px);height: 1px;margin: -1px;overflow: hidden;padding: 0;position: absolute;width: 1px;}#sk-container-id-16 div.sk-estimator {font-family: monospace;background-color: #f0f8ff;border: 1px dotted black;border-radius: 0.25em;box-sizing: border-box;margin-bottom: 0.5em;}#sk-container-id-16 div.sk-estimator:hover {background-color: #d4ebff;}#sk-container-id-16 div.sk-parallel-item::after {content: \"\";width: 100%;border-bottom: 1px solid gray;flex-grow: 1;}#sk-container-id-16 div.sk-label:hover label.sk-toggleable__label {background-color: #d4ebff;}#sk-container-id-16 div.sk-serial::before {content: \"\";position: absolute;border-left: 1px solid gray;box-sizing: border-box;top: 0;bottom: 0;left: 50%;z-index: 0;}#sk-container-id-16 div.sk-serial {display: flex;flex-direction: column;align-items: center;background-color: white;padding-right: 0.2em;padding-left: 0.2em;position: relative;}#sk-container-id-16 div.sk-item {position: relative;z-index: 1;}#sk-container-id-16 div.sk-parallel {display: flex;align-items: stretch;justify-content: center;background-color: white;position: relative;}#sk-container-id-16 div.sk-item::before, #sk-container-id-16 div.sk-parallel-item::before {content: \"\";position: absolute;border-left: 1px solid gray;box-sizing: border-box;top: 0;bottom: 0;left: 50%;z-index: -1;}#sk-container-id-16 div.sk-parallel-item {display: flex;flex-direction: column;z-index: 1;position: relative;background-color: white;}#sk-container-id-16 div.sk-parallel-item:first-child::after {align-self: flex-end;width: 50%;}#sk-container-id-16 div.sk-parallel-item:last-child::after {align-self: flex-start;width: 50%;}#sk-container-id-16 div.sk-parallel-item:only-child::after {width: 0;}#sk-container-id-16 div.sk-dashed-wrapped {border: 1px dashed gray;margin: 0 0.4em 0.5em 0.4em;box-sizing: border-box;padding-bottom: 0.4em;background-color: white;}#sk-container-id-16 div.sk-label label {font-family: monospace;font-weight: bold;display: inline-block;line-height: 1.2em;}#sk-container-id-16 div.sk-label-container {text-align: center;}#sk-container-id-16 div.sk-container {/* jupyter's `normalize.less` sets `[hidden] { display: none; }` but bootstrap.min.css set `[hidden] { display: none !important; }` so we also need the `!important` here to be able to override the default hidden behavior on the sphinx rendered scikit-learn.org. See: https://github.com/scikit-learn/scikit-learn/issues/21755 */display: inline-block !important;position: relative;}#sk-container-id-16 div.sk-text-repr-fallback {display: none;}</style><div id=\"sk-container-id-16\" class=\"sk-top-container\"><div class=\"sk-text-repr-fallback\"><pre>RandomizedSearchCV(cv=3, estimator=RandomForestClassifier(), n_iter=50,\n",
       "                   n_jobs=-1,\n",
       "                   param_distributions={&#x27;bootstrap&#x27;: [True, False],\n",
       "                                        &#x27;max_depth&#x27;: [10, 20, 30, 40, 50, None],\n",
       "                                        &#x27;min_samples_leaf&#x27;: [1, 2, 4, 6, 10,\n",
       "                                                             20],\n",
       "                                        &#x27;min_samples_split&#x27;: [2, 5, 10],\n",
       "                                        &#x27;n_estimators&#x27;: [100, 200, 300, 400,\n",
       "                                                         500]},\n",
       "                   scoring=&#x27;f1&#x27;, verbose=1)</pre><b>In a Jupyter environment, please rerun this cell to show the HTML representation or trust the notebook. <br />On GitHub, the HTML representation is unable to render, please try loading this page with nbviewer.org.</b></div><div class=\"sk-container\" hidden><div class=\"sk-item sk-dashed-wrapped\"><div class=\"sk-label-container\"><div class=\"sk-label sk-toggleable\"><input class=\"sk-toggleable__control sk-hidden--visually\" id=\"sk-estimator-id-36\" type=\"checkbox\" ><label for=\"sk-estimator-id-36\" class=\"sk-toggleable__label sk-toggleable__label-arrow\">RandomizedSearchCV</label><div class=\"sk-toggleable__content\"><pre>RandomizedSearchCV(cv=3, estimator=RandomForestClassifier(), n_iter=50,\n",
       "                   n_jobs=-1,\n",
       "                   param_distributions={&#x27;bootstrap&#x27;: [True, False],\n",
       "                                        &#x27;max_depth&#x27;: [10, 20, 30, 40, 50, None],\n",
       "                                        &#x27;min_samples_leaf&#x27;: [1, 2, 4, 6, 10,\n",
       "                                                             20],\n",
       "                                        &#x27;min_samples_split&#x27;: [2, 5, 10],\n",
       "                                        &#x27;n_estimators&#x27;: [100, 200, 300, 400,\n",
       "                                                         500]},\n",
       "                   scoring=&#x27;f1&#x27;, verbose=1)</pre></div></div></div><div class=\"sk-parallel\"><div class=\"sk-parallel-item\"><div class=\"sk-item\"><div class=\"sk-label-container\"><div class=\"sk-label sk-toggleable\"><input class=\"sk-toggleable__control sk-hidden--visually\" id=\"sk-estimator-id-37\" type=\"checkbox\" ><label for=\"sk-estimator-id-37\" class=\"sk-toggleable__label sk-toggleable__label-arrow\">estimator: RandomForestClassifier</label><div class=\"sk-toggleable__content\"><pre>RandomForestClassifier()</pre></div></div></div><div class=\"sk-serial\"><div class=\"sk-item\"><div class=\"sk-estimator sk-toggleable\"><input class=\"sk-toggleable__control sk-hidden--visually\" id=\"sk-estimator-id-38\" type=\"checkbox\" ><label for=\"sk-estimator-id-38\" class=\"sk-toggleable__label sk-toggleable__label-arrow\">RandomForestClassifier</label><div class=\"sk-toggleable__content\"><pre>RandomForestClassifier()</pre></div></div></div></div></div></div></div></div></div></div>"
      ],
      "text/plain": [
       "RandomizedSearchCV(cv=3, estimator=RandomForestClassifier(), n_iter=50,\n",
       "                   n_jobs=-1,\n",
       "                   param_distributions={'bootstrap': [True, False],\n",
       "                                        'max_depth': [10, 20, 30, 40, 50, None],\n",
       "                                        'min_samples_leaf': [1, 2, 4, 6, 10,\n",
       "                                                             20],\n",
       "                                        'min_samples_split': [2, 5, 10],\n",
       "                                        'n_estimators': [100, 200, 300, 400,\n",
       "                                                         500]},\n",
       "                   scoring='f1', verbose=1)"
      ]
     },
     "execution_count": 412,
     "metadata": {},
     "output_type": "execute_result"
    }
   ],
   "source": [
    "rf_random = RandomizedSearchCV(\n",
    "    estimator=random_forest,\n",
    "    param_distributions=rdm_fst_grid,\n",
    "    n_iter=50,\n",
    "    cv=3,\n",
    "    verbose=1,\n",
    "    scoring='f1',\n",
    "    n_jobs=-1\n",
    ")\n",
    "rf_random.fit(X, y)"
   ]
  },
  {
   "cell_type": "code",
   "execution_count": 413,
   "id": "c1fc6fd9-193e-4b2d-8c09-bae721a9833c",
   "metadata": {},
   "outputs": [
    {
     "data": {
      "text/plain": [
       "{'n_estimators': 100,\n",
       " 'min_samples_split': 2,\n",
       " 'min_samples_leaf': 1,\n",
       " 'max_depth': 40,\n",
       " 'bootstrap': False}"
      ]
     },
     "execution_count": 413,
     "metadata": {},
     "output_type": "execute_result"
    }
   ],
   "source": [
    "best_params = rf_random.best_params_\n",
    "best_params"
   ]
  },
  {
   "cell_type": "code",
   "execution_count": 417,
   "id": "5500af59-6f32-4fe7-aa47-ff4ef75e1fdd",
   "metadata": {},
   "outputs": [
    {
     "data": {
      "text/plain": [
       "0.32022158456878685"
      ]
     },
     "execution_count": 417,
     "metadata": {},
     "output_type": "execute_result"
    }
   ],
   "source": [
    "# CV on best params\n",
    "random_forest_best = RandomForestClassifier(**best_params)\n",
    "rf_best_score = cross_val_score(random_forest_best, X, y, cv=3, scoring='f1').mean()\n",
    "rf_best_score"
   ]
  },
  {
   "cell_type": "code",
   "execution_count": 418,
   "id": "fd724a30-bd79-49d4-88bc-e61fc1cb23e8",
   "metadata": {},
   "outputs": [
    {
     "data": {
      "text/plain": [
       "2.3237757743801657"
      ]
     },
     "execution_count": 418,
     "metadata": {},
     "output_type": "execute_result"
    }
   ],
   "source": [
    "((rf_best_score/rf_score) - 1) * 100"
   ]
  },
  {
   "cell_type": "markdown",
   "id": "b4947c60-af1c-44b3-af56-92dc1286984a",
   "metadata": {},
   "source": [
    "Great so we're seeing a 15% improvement in precision after training hyperparameters. Finally we can calibrate the model."
   ]
  },
  {
   "cell_type": "code",
   "execution_count": 419,
   "id": "4abba9a1-27b7-402b-b873-6ecb47203ddd",
   "metadata": {},
   "outputs": [
    {
     "data": {
      "text/html": [
       "<style>#sk-container-id-17 {color: black;background-color: white;}#sk-container-id-17 pre{padding: 0;}#sk-container-id-17 div.sk-toggleable {background-color: white;}#sk-container-id-17 label.sk-toggleable__label {cursor: pointer;display: block;width: 100%;margin-bottom: 0;padding: 0.3em;box-sizing: border-box;text-align: center;}#sk-container-id-17 label.sk-toggleable__label-arrow:before {content: \"▸\";float: left;margin-right: 0.25em;color: #696969;}#sk-container-id-17 label.sk-toggleable__label-arrow:hover:before {color: black;}#sk-container-id-17 div.sk-estimator:hover label.sk-toggleable__label-arrow:before {color: black;}#sk-container-id-17 div.sk-toggleable__content {max-height: 0;max-width: 0;overflow: hidden;text-align: left;background-color: #f0f8ff;}#sk-container-id-17 div.sk-toggleable__content pre {margin: 0.2em;color: black;border-radius: 0.25em;background-color: #f0f8ff;}#sk-container-id-17 input.sk-toggleable__control:checked~div.sk-toggleable__content {max-height: 200px;max-width: 100%;overflow: auto;}#sk-container-id-17 input.sk-toggleable__control:checked~label.sk-toggleable__label-arrow:before {content: \"▾\";}#sk-container-id-17 div.sk-estimator input.sk-toggleable__control:checked~label.sk-toggleable__label {background-color: #d4ebff;}#sk-container-id-17 div.sk-label input.sk-toggleable__control:checked~label.sk-toggleable__label {background-color: #d4ebff;}#sk-container-id-17 input.sk-hidden--visually {border: 0;clip: rect(1px 1px 1px 1px);clip: rect(1px, 1px, 1px, 1px);height: 1px;margin: -1px;overflow: hidden;padding: 0;position: absolute;width: 1px;}#sk-container-id-17 div.sk-estimator {font-family: monospace;background-color: #f0f8ff;border: 1px dotted black;border-radius: 0.25em;box-sizing: border-box;margin-bottom: 0.5em;}#sk-container-id-17 div.sk-estimator:hover {background-color: #d4ebff;}#sk-container-id-17 div.sk-parallel-item::after {content: \"\";width: 100%;border-bottom: 1px solid gray;flex-grow: 1;}#sk-container-id-17 div.sk-label:hover label.sk-toggleable__label {background-color: #d4ebff;}#sk-container-id-17 div.sk-serial::before {content: \"\";position: absolute;border-left: 1px solid gray;box-sizing: border-box;top: 0;bottom: 0;left: 50%;z-index: 0;}#sk-container-id-17 div.sk-serial {display: flex;flex-direction: column;align-items: center;background-color: white;padding-right: 0.2em;padding-left: 0.2em;position: relative;}#sk-container-id-17 div.sk-item {position: relative;z-index: 1;}#sk-container-id-17 div.sk-parallel {display: flex;align-items: stretch;justify-content: center;background-color: white;position: relative;}#sk-container-id-17 div.sk-item::before, #sk-container-id-17 div.sk-parallel-item::before {content: \"\";position: absolute;border-left: 1px solid gray;box-sizing: border-box;top: 0;bottom: 0;left: 50%;z-index: -1;}#sk-container-id-17 div.sk-parallel-item {display: flex;flex-direction: column;z-index: 1;position: relative;background-color: white;}#sk-container-id-17 div.sk-parallel-item:first-child::after {align-self: flex-end;width: 50%;}#sk-container-id-17 div.sk-parallel-item:last-child::after {align-self: flex-start;width: 50%;}#sk-container-id-17 div.sk-parallel-item:only-child::after {width: 0;}#sk-container-id-17 div.sk-dashed-wrapped {border: 1px dashed gray;margin: 0 0.4em 0.5em 0.4em;box-sizing: border-box;padding-bottom: 0.4em;background-color: white;}#sk-container-id-17 div.sk-label label {font-family: monospace;font-weight: bold;display: inline-block;line-height: 1.2em;}#sk-container-id-17 div.sk-label-container {text-align: center;}#sk-container-id-17 div.sk-container {/* jupyter's `normalize.less` sets `[hidden] { display: none; }` but bootstrap.min.css set `[hidden] { display: none !important; }` so we also need the `!important` here to be able to override the default hidden behavior on the sphinx rendered scikit-learn.org. See: https://github.com/scikit-learn/scikit-learn/issues/21755 */display: inline-block !important;position: relative;}#sk-container-id-17 div.sk-text-repr-fallback {display: none;}</style><div id=\"sk-container-id-17\" class=\"sk-top-container\"><div class=\"sk-text-repr-fallback\"><pre>RandomForestClassifier(bootstrap=False, max_depth=40)</pre><b>In a Jupyter environment, please rerun this cell to show the HTML representation or trust the notebook. <br />On GitHub, the HTML representation is unable to render, please try loading this page with nbviewer.org.</b></div><div class=\"sk-container\" hidden><div class=\"sk-item\"><div class=\"sk-estimator sk-toggleable\"><input class=\"sk-toggleable__control sk-hidden--visually\" id=\"sk-estimator-id-39\" type=\"checkbox\" checked><label for=\"sk-estimator-id-39\" class=\"sk-toggleable__label sk-toggleable__label-arrow\">RandomForestClassifier</label><div class=\"sk-toggleable__content\"><pre>RandomForestClassifier(bootstrap=False, max_depth=40)</pre></div></div></div></div></div>"
      ],
      "text/plain": [
       "RandomForestClassifier(bootstrap=False, max_depth=40)"
      ]
     },
     "execution_count": 419,
     "metadata": {},
     "output_type": "execute_result"
    }
   ],
   "source": [
    "# Train the final random forest\n",
    "random_forest_best.fit(X, y)"
   ]
  },
  {
   "cell_type": "markdown",
   "id": "cfac2e79-e55f-4e59-94f5-975eeda34b66",
   "metadata": {},
   "source": [
    "### Make predictions on remaining set"
   ]
  },
  {
   "cell_type": "markdown",
   "id": "17756166-b694-4fcc-87c6-831b3101e33f",
   "metadata": {},
   "source": [
    "Here I am manually setting the threshold for predictions so that the class distribution of the predictions roughly matches that for the training set. This is a pretty simple way of doing it and in reality you would calibrate on some other set, but given the limited scope of the data and the assignment I think this is fine."
   ]
  },
  {
   "cell_type": "code",
   "execution_count": 461,
   "id": "8ccadf30-a5b8-4b6c-bc05-317463f610b7",
   "metadata": {},
   "outputs": [
    {
     "name": "stderr",
     "output_type": "stream",
     "text": [
      "C:\\Users\\josep\\AppData\\Local\\Temp\\ipykernel_10016\\3825035066.py:3: SettingWithCopyWarning: \n",
      "A value is trying to be set on a copy of a slice from a DataFrame.\n",
      "Try using .loc[row_indexer,col_indexer] = value instead\n",
      "\n",
      "See the caveats in the documentation: https://pandas.pydata.org/pandas-docs/stable/user_guide/indexing.html#returning-a-view-versus-a-copy\n",
      "  campaign_null.loc[:, 'created_account'] = (random_forest_best.predict_proba(X)[:,1] >= 0.36).astype(int)\n"
     ]
    }
   ],
   "source": [
    "# Predict outcome and add a flag to show that this is a predicted outcome\n",
    "X = pd.get_dummies(campaign_null)[CAMPAIGN_FEATURES_FINAL]\n",
    "campaign_null.loc[:, 'created_account'] = (random_forest_best.predict_proba(X)[:,1] >= 0.36).astype(int)"
   ]
  },
  {
   "cell_type": "code",
   "execution_count": 462,
   "id": "148f3aed-c0da-4970-8696-7ffc8ae84e02",
   "metadata": {},
   "outputs": [
    {
     "data": {
      "text/plain": [
       "0    0.920714\n",
       "1    0.079286\n",
       "Name: created_account, dtype: float64"
      ]
     },
     "execution_count": 462,
     "metadata": {},
     "output_type": "execute_result"
    }
   ],
   "source": [
    "# Check calibration\n",
    "campaign_train.created_account.value_counts(normalize=True)"
   ]
  },
  {
   "cell_type": "code",
   "execution_count": 463,
   "id": "833c8f0a-c652-4152-b0bf-941750d0781c",
   "metadata": {},
   "outputs": [
    {
     "data": {
      "text/plain": [
       "0    0.92078\n",
       "1    0.07922\n",
       "Name: created_account, dtype: float64"
      ]
     },
     "execution_count": 463,
     "metadata": {},
     "output_type": "execute_result"
    }
   ],
   "source": [
    "campaign_null.created_account.value_counts(normalize=True)"
   ]
  },
  {
   "cell_type": "markdown",
   "id": "29ccf5c9-fbc7-4615-bbf5-4aa362f7be9a",
   "metadata": {},
   "source": [
    "That was a really simple cut but I'm quite happy with the calibration there overall."
   ]
  },
  {
   "cell_type": "code",
   "execution_count": 464,
   "id": "9b0e76aa-c1a6-42a5-85a9-f1931d2e7597",
   "metadata": {},
   "outputs": [
    {
     "name": "stdout",
     "output_type": "stream",
     "text": [
      "<class 'pandas.core.frame.DataFrame'>\n",
      "Int64Index: 32060 entries, 0 to 32059\n",
      "Data columns (total 10 columns):\n",
      " #   Column                Non-Null Count  Dtype \n",
      "---  ------                --------------  ----- \n",
      " 0   participant_id        32060 non-null  int64 \n",
      " 1   age                   32060 non-null  int64 \n",
      " 2   marital_status        32060 non-null  object\n",
      " 3   occupation_level      32060 non-null  int64 \n",
      " 4   education_num         32060 non-null  int64 \n",
      " 5   familiarity_nw        32060 non-null  int64 \n",
      " 6   view_nw               32060 non-null  int64 \n",
      " 7   interested_insurance  32060 non-null  int64 \n",
      " 8   created_account       32060 non-null  int64 \n",
      " 9   predicted             32060 non-null  int64 \n",
      "dtypes: int64(9), object(1)\n",
      "memory usage: 2.7+ MB\n"
     ]
    }
   ],
   "source": [
    "campaign_all_scored = pd.concat([campaign_train, campaign_null]).sort_index()\n",
    "campaign_all_scored.info()"
   ]
  },
  {
   "cell_type": "code",
   "execution_count": 465,
   "id": "cf031e5a-cd80-4adf-8915-818e64124590",
   "metadata": {},
   "outputs": [
    {
     "data": {
      "text/plain": [
       "0    0.920774\n",
       "1    0.079226\n",
       "Name: created_account, dtype: float64"
      ]
     },
     "execution_count": 465,
     "metadata": {},
     "output_type": "execute_result"
    }
   ],
   "source": [
    "campaign_all_scored.created_account.value_counts(normalize=True)"
   ]
  },
  {
   "cell_type": "markdown",
   "id": "e3792387-2af3-47d0-aab5-685e64ef1a3c",
   "metadata": {},
   "source": [
    "### Back to the Mortgage Model"
   ]
  },
  {
   "cell_type": "code",
   "execution_count": 466,
   "id": "724b556c-e922-4f50-b251-7b2fe88e9bbb",
   "metadata": {},
   "outputs": [
    {
     "name": "stdout",
     "output_type": "stream",
     "text": [
      "<class 'pandas.core.frame.DataFrame'>\n",
      "Int64Index: 32060 entries, 0 to 32059\n",
      "Data columns (total 10 columns):\n",
      " #   Column                      Non-Null Count  Dtype \n",
      "---  ------                      --------------  ----- \n",
      " 0   participant_id              32060 non-null  int64 \n",
      " 1   town                        32060 non-null  object\n",
      " 2   salary_band                 32060 non-null  object\n",
      " 3   years_with_employer         32060 non-null  int64 \n",
      " 4   months_with_employer        32060 non-null  int64 \n",
      " 5   hours_per_week              32060 non-null  int64 \n",
      " 6   capital_gain                32060 non-null  int64 \n",
      " 7   capital_loss                32060 non-null  int64 \n",
      " 8   workclass                   30252 non-null  object\n",
      " 9   demographic_characteristic  32060 non-null  int64 \n",
      "dtypes: int64(7), object(3)\n",
      "memory usage: 2.7+ MB\n"
     ]
    }
   ],
   "source": [
    "mortgages_df.info()"
   ]
  },
  {
   "cell_type": "code",
   "execution_count": 467,
   "id": "2fe3ec04-7cda-4aee-bdf0-70a6688e7c40",
   "metadata": {},
   "outputs": [],
   "source": [
    "# Add the calculated created_account and age from the campaign\n",
    "mortgages_df = pd.merge(\n",
    "    left=mortgages_df,\n",
    "    right=campaign_all_scored[['participant_id', 'age', 'created_account', 'predicted']],\n",
    "    left_on='participant_id',\n",
    "    right_on='participant_id'\n",
    ")"
   ]
  },
  {
   "cell_type": "markdown",
   "id": "3c733510-f504-4c14-a5da-15169a029937",
   "metadata": {},
   "source": [
    "### Preprocessing functions"
   ]
  },
  {
   "cell_type": "code",
   "execution_count": 468,
   "id": "a776fce2-62e9-4b00-96cd-7e47cb9d5d42",
   "metadata": {},
   "outputs": [],
   "source": [
    "def get_conversion_rates(base_currency: str) -> float:\n",
    "    API_KEY = \"336451b9507d5a9829f635f5\"\n",
    "    try:\n",
    "        response = requests.get(\n",
    "            f\"https://v6.exchangerate-api.com/v6/{API_KEY}/latest/{base_currency}\"\n",
    "        )\n",
    "    except requests.exceptions.RequestException as error:\n",
    "        raise SystemExit from error\n",
    "    else:\n",
    "        conversion_rates = response.json()[\"conversion_rates\"]\n",
    "        return conversion_rates"
   ]
  },
  {
   "cell_type": "code",
   "execution_count": 469,
   "id": "5e01b26e-2f3d-408e-a216-5152143a46e2",
   "metadata": {},
   "outputs": [],
   "source": [
    "FREQUENCIES = {\n",
    "    \"month\": 12.0,\n",
    "    \"pw\": 52.0,\n",
    "}\n",
    "\n",
    "def parse_salary(salary_string: str, exchange_rates: dict) -> float:\n",
    "    \"\"\"Parses salary string to return yearly salary in Pounds.\n",
    "\n",
    "    Args:\n",
    "        salary_string (str): String description of customer salary.\n",
    "        exchange_rates (dict, optional): Dictionary of exchange rates.\n",
    "\n",
    "    Returns:\n",
    "        float: Yearly salary in British Pounds.\n",
    "    \"\"\"\n",
    "    # Get amount\n",
    "    try:\n",
    "        amounts = re.findall(r\"\\d+\\.?\\d+\", salary_string)\n",
    "        if len(amounts) < 1:\n",
    "            return np.nan\n",
    "        amounts = [float(a) for a in amounts]\n",
    "        amount = np.mean(amounts)\n",
    "    except ValueError:\n",
    "        # Return np.nan if no number found in string\n",
    "        return np.nan\n",
    "\n",
    "    # Get currency\n",
    "    try:\n",
    "        currency = re.search(r\"£|[A-Z]+\", salary_string).group()\n",
    "        if currency == \"£\":\n",
    "            currency = \"GBP\"\n",
    "    except AttributeError:\n",
    "        # Set to pounds if no currency found\n",
    "        currency = \"GBP\"\n",
    "\n",
    "    # Get frequency\n",
    "    try:\n",
    "        freq = re.findall(r\"[a-z]+\", salary_string)[-1]\n",
    "        if freq in list(FREQUENCIES.keys()):  # TODO: Sort out why this is linted\n",
    "            freq = FREQUENCIES[freq]\n",
    "        else:\n",
    "            freq = 1.0\n",
    "    except (IndexError, AttributeError):\n",
    "        freq = 1.0\n",
    "\n",
    "    try:\n",
    "        yearly_salary = round(amount * exchange_rates[currency] * freq, 2)\n",
    "        return yearly_salary\n",
    "    except KeyError:\n",
    "        return np.nan"
   ]
  },
  {
   "cell_type": "code",
   "execution_count": 470,
   "id": "6b0a9f6c-3278-4fbd-8f5a-9acf181458c1",
   "metadata": {},
   "outputs": [],
   "source": [
    "def batch_parse_salary(\n",
    "    salary_strings: Iterable, exchange_rates: dict = None\n",
    ") -> np.array:\n",
    "    \"\"\"\n",
    "\n",
    "    Args:\n",
    "        salary_strings (Iterable): _description_\n",
    "        exchange_rates (dict, optional): _description_. Defaults to None.\n",
    "\n",
    "    Returns:\n",
    "        np.array: _description_\n",
    "    \"\"\"\n",
    "    if not exchange_rates:\n",
    "        print(\"Getting exhange rates...\")\n",
    "        exchange_rates = get_conversion_rates(base_currency=\"GBP\")\n",
    "    parsed_salaries = np.empty_like(salary_strings, dtype=\"float\")\n",
    "    for i, salary in enumerate(salary_strings):\n",
    "        parsed_salary = parse_salary(salary, exchange_rates)\n",
    "        parsed_salaries[i] = parsed_salary\n",
    "    return parsed_salaries"
   ]
  },
  {
   "cell_type": "code",
   "execution_count": 471,
   "id": "537fa52e-c749-4903-9ad9-419e16dd887e",
   "metadata": {},
   "outputs": [],
   "source": [
    "def combine_time_with_employer(years: int, months: int) -> int:\n",
    "    \"\"\"Combines time with employer (years, months) into total months.\n",
    "\n",
    "    Args:\n",
    "        years (int): Time spent with employer in years.\n",
    "        months (int): Time spent with employer in months.\n",
    "\n",
    "    Returns:\n",
    "        int: Total months spent with employer.\n",
    "    \"\"\"\n",
    "    return (years * 12) + months"
   ]
  },
  {
   "cell_type": "code",
   "execution_count": 472,
   "id": "12629617-321d-4451-95b8-5980868ff0e5",
   "metadata": {},
   "outputs": [
    {
     "name": "stdout",
     "output_type": "stream",
     "text": [
      "Getting exhange rates...\n"
     ]
    }
   ],
   "source": [
    "# Parse the salaries and drop null rows\n",
    "mortgages_df['salary_band_parsed'] = batch_parse_salary(mortgages_df.salary_band)\n",
    "mortgages_df = mortgages_df.dropna(subset='salary_band_parsed')\n",
    "mortgages_df = mortgages_df.drop('salary_band', axis=1)"
   ]
  },
  {
   "cell_type": "code",
   "execution_count": 473,
   "id": "78cc397e-0dc3-466b-a344-285e70e3cf1f",
   "metadata": {},
   "outputs": [],
   "source": [
    "# Combine time with employer \n",
    "mortgages_df['months_with_employer'] = mortgages_df.apply(lambda x: combine_time_with_employer(x.years_with_employer, x.months_with_employer), axis=1)\n",
    "mortgages_df = mortgages_df.drop('years_with_employer', axis=1)"
   ]
  },
  {
   "cell_type": "markdown",
   "id": "d3606818-9b66-4867-8b33-ff5dd9c835de",
   "metadata": {},
   "source": [
    "### Explore remaining features within Mortgages"
   ]
  },
  {
   "cell_type": "code",
   "execution_count": 474,
   "id": "2afe41f1-f1b3-44a3-92a4-dff5c6bd09b4",
   "metadata": {},
   "outputs": [
    {
     "data": {
      "image/png": "[encoded data removed]",
      "text/plain": [
       "<Figure size 640x480 with 1 Axes>"
      ]
     },
     "metadata": {},
     "output_type": "display_data"
    }
   ],
   "source": [
    "# Plot pie chart\n",
    "town_counts = mortgages_df.town.value_counts()\n",
    "top_five = []\n",
    "for town in town_counts.index[:5]:\n",
    "    top_five.append(town)\n",
    "\n",
    "other_count = town_counts[~town_counts.index.isin(top_five)].sum()\n",
    "\n",
    "all_counts = town_counts[top_five].to_list() + [other_count]\n",
    "all_names = top_five +  ['Other']\n",
    "\n",
    "plt.pie(all_counts, labels=all_names, autopct='%1.1f%%')\n",
    "plt.show()"
   ]
  },
  {
   "cell_type": "markdown",
   "id": "0ebb540e-ef6a-4b65-b3b9-32f358237836",
   "metadata": {},
   "source": [
    "Here we see that Edinburgh makes up over half of all campaign selections - casting doubt over whether the sample really was randomly selected. Given the UK demographic we would expect to see London high up, but it is not. Not able to do much about this now other than flag it as an improvement to make the the sample selection in further iterations."
   ]
  },
  {
   "cell_type": "code",
   "execution_count": 475,
   "id": "a50621ad-0948-4dda-bff0-30e49df787c2",
   "metadata": {},
   "outputs": [
    {
     "data": {
      "image/png": "[encoded data removed]",
      "text/plain": [
       "<Figure size 640x480 with 1 Axes>"
      ]
     },
     "metadata": {},
     "output_type": "display_data"
    }
   ],
   "source": [
    "# Months with empkloyer\n",
    "sns.histplot(data=mortgages_df, x='months_with_employer', hue='created_account', common_norm=False, stat='density');"
   ]
  },
  {
   "cell_type": "markdown",
   "id": "77c0c82d-8f09-468b-8814-d7fe0bfa4d22",
   "metadata": {},
   "source": [
    "We see a slight skew to the right for customers who did create an account, suggesting that customers who have been with their employer for longer will tend to carry out insurance - but this is a _bit_ of a proxy for age. Not enough to drop I would argue."
   ]
  },
  {
   "cell_type": "code",
   "execution_count": 476,
   "id": "bc24fb65-8a7c-4d3f-878f-58d396da3c80",
   "metadata": {},
   "outputs": [
    {
     "data": {
      "image/png": "[encoded data removed]",
      "text/plain": [
       "<Figure size 640x480 with 1 Axes>"
      ]
     },
     "metadata": {},
     "output_type": "display_data"
    }
   ],
   "source": [
    "# Hours per week\n",
    "sns.histplot(data=mortgages_df, x='hours_per_week', hue='created_account', bins=20, common_norm=False, stat='density');"
   ]
  },
  {
   "cell_type": "markdown",
   "id": "024a7a4f-d7e9-423c-847d-f1d9a039f129",
   "metadata": {},
   "source": [
    "We see some suggestion that those who work more hours are more likely to take out insurance. This is intuitive for a few reasons:\n",
    "\n",
    "* It might suggest that they earn more money so have more disposible income to spend on insurance\n",
    "* They spend more time away from home so want the insurance that their home is protected."
   ]
  },
  {
   "cell_type": "code",
   "execution_count": 477,
   "id": "3230b218-6973-411f-8842-b8be03a66bb9",
   "metadata": {},
   "outputs": [
    {
     "data": {
      "image/png": "[encoded data removed]",
      "text/plain": [
       "<Figure size 640x480 with 1 Axes>"
      ]
     },
     "metadata": {},
     "output_type": "display_data"
    }
   ],
   "source": [
    "# Capital gain\n",
    "sns.histplot(data=mortgages_df, x='capital_gain', hue='created_account', bins=20, common_norm=False, stat='density');"
   ]
  },
  {
   "cell_type": "code",
   "execution_count": 478,
   "id": "65417097-eaed-4927-8796-9e5bf370818a",
   "metadata": {},
   "outputs": [
    {
     "data": {
      "image/png": "[encoded data removed]",
      "text/plain": [
       "<Figure size 640x480 with 1 Axes>"
      ]
     },
     "metadata": {},
     "output_type": "display_data"
    }
   ],
   "source": [
    "# Capital loss\n",
    "sns.histplot(data=mortgages_df, x='capital_loss', hue='created_account', bins=20, common_norm=False, stat='density');"
   ]
  },
  {
   "cell_type": "markdown",
   "id": "4bb5da89-f129-46f6-89e9-a54ea65d4bc4",
   "metadata": {},
   "source": [
    "I am assuming that capital gain/loss is tax paid by the customer upon sale of a previous property. Suggests that those who are paying it - this is not a mortgage for their first home. You could quite easily create a feature for \"first home\" - or else you could combine capital gains and loss into one feature for simplicity which is what I'm going to do."
   ]
  },
  {
   "cell_type": "code",
   "execution_count": 479,
   "id": "e88509e8-b4d0-41b5-aef5-2bfdd4261d50",
   "metadata": {},
   "outputs": [],
   "source": [
    "# Calculate net capital tax\n",
    "mortgages_df['capital_net'] = mortgages_df.capital_gain - mortgages_df.capital_loss\n",
    "mortgages_df = mortgages_df.drop(['capital_gain', 'capital_loss'], axis=1)"
   ]
  },
  {
   "cell_type": "code",
   "execution_count": 480,
   "id": "d50c1f02-a717-4d11-bfe8-19af2e3c22ea",
   "metadata": {},
   "outputs": [
    {
     "data": {
      "text/html": [
       "<div>\n",
       "<style scoped>\n",
       "    .dataframe tbody tr th:only-of-type {\n",
       "        vertical-align: middle;\n",
       "    }\n",
       "\n",
       "    .dataframe tbody tr th {\n",
       "        vertical-align: top;\n",
       "    }\n",
       "\n",
       "    .dataframe thead th {\n",
       "        text-align: right;\n",
       "    }\n",
       "</style>\n",
       "<table border=\"1\" class=\"dataframe\">\n",
       "  <thead>\n",
       "    <tr style=\"text-align: right;\">\n",
       "      <th></th>\n",
       "      <th>created_account</th>\n",
       "    </tr>\n",
       "    <tr>\n",
       "      <th>workclass</th>\n",
       "      <th></th>\n",
       "    </tr>\n",
       "  </thead>\n",
       "  <tbody>\n",
       "    <tr>\n",
       "      <th>Self-emp-inc</th>\n",
       "      <td>0.215993</td>\n",
       "    </tr>\n",
       "    <tr>\n",
       "      <th>Federal-gov</th>\n",
       "      <td>0.113369</td>\n",
       "    </tr>\n",
       "    <tr>\n",
       "      <th>State-gov</th>\n",
       "      <td>0.112698</td>\n",
       "    </tr>\n",
       "    <tr>\n",
       "      <th>Self-emp-not-inc</th>\n",
       "      <td>0.105920</td>\n",
       "    </tr>\n",
       "    <tr>\n",
       "      <th>Local-gov</th>\n",
       "      <td>0.100294</td>\n",
       "    </tr>\n",
       "    <tr>\n",
       "      <th>Private</th>\n",
       "      <td>0.066875</td>\n",
       "    </tr>\n",
       "    <tr>\n",
       "      <th>Never-worked</th>\n",
       "      <td>0.000000</td>\n",
       "    </tr>\n",
       "    <tr>\n",
       "      <th>Without-pay</th>\n",
       "      <td>0.000000</td>\n",
       "    </tr>\n",
       "  </tbody>\n",
       "</table>\n",
       "</div>"
      ],
      "text/plain": [
       "                  created_account\n",
       "workclass                        \n",
       "Self-emp-inc             0.215993\n",
       "Federal-gov              0.113369\n",
       "State-gov                0.112698\n",
       "Self-emp-not-inc         0.105920\n",
       "Local-gov                0.100294\n",
       "Private                  0.066875\n",
       "Never-worked             0.000000\n",
       "Without-pay              0.000000"
      ]
     },
     "execution_count": 480,
     "metadata": {},
     "output_type": "execute_result"
    }
   ],
   "source": [
    "mortgages_df.pivot_table(index='workclass', values='created_account').sort_values(by='created_account',\n",
    "                                                                                  ascending=False)"
   ]
  },
  {
   "cell_type": "markdown",
   "id": "f3ff2bc7-8169-488f-b4bc-6ebe5aa64d29",
   "metadata": {},
   "source": [
    "Makes sense at the lower end with people not working. Interesting that self-employed incorporated people are twice as likely to take out insurance as the next most likely: federal government workers. "
   ]
  },
  {
   "cell_type": "code",
   "execution_count": 481,
   "id": "49ad9c5b-1073-4107-ba0f-ed3e3ec690eb",
   "metadata": {},
   "outputs": [
    {
     "data": {
      "image/png": "[encoded data removed]",
      "text/plain": [
       "<Figure size 640x480 with 1 Axes>"
      ]
     },
     "metadata": {},
     "output_type": "display_data"
    }
   ],
   "source": [
    "# Capital loss\n",
    "sns.histplot(data=mortgages_df, x='demographic_characteristic', hue='created_account', common_norm=False, stat='density');"
   ]
  },
  {
   "cell_type": "markdown",
   "id": "bbadeb0b-f7e4-4d55-a9e6-129c87b64c02",
   "metadata": {},
   "source": [
    "Displaying in this way is not helpful for demongraphic characteristic since it is a closeness metric - there is no clear trans one was or the other. Using this feature limits the models we can utilise - will need to be tree-like or other non-linear models that can distinguish closeness. "
   ]
  },
  {
   "cell_type": "code",
   "execution_count": 482,
   "id": "a34374f9-1698-40ec-bb9b-97a83ae43679",
   "metadata": {
    "tags": []
   },
   "outputs": [
    {
     "data": {
      "text/plain": [
       "<AxesSubplot: xlabel='salary_band_parsed', ylabel='created_account'>"
      ]
     },
     "execution_count": 482,
     "metadata": {},
     "output_type": "execute_result"
    },
    {
     "data": {
      "image/png": "[encoded data removed]",
      "text/plain": [
       "<Figure size 640x480 with 1 Axes>"
      ]
     },
     "metadata": {},
     "output_type": "display_data"
    }
   ],
   "source": [
    "sns.boxplot(data=mortgages_df, x='salary_band_parsed', y='created_account', showfliers=False, orient='h')"
   ]
  },
  {
   "cell_type": "markdown",
   "id": "7401c17c-ec3c-4e9f-805a-946415dc36f1",
   "metadata": {},
   "source": [
    "So people with a higher salary are more likely to take out insurance - makes sense to me."
   ]
  },
  {
   "cell_type": "markdown",
   "id": "fe5efa60-7a50-47e2-bc15-bda6aaa137d9",
   "metadata": {},
   "source": [
    "### Model Build\n",
    "\n",
    "Now we have more data we can employ a slightly more 'proper' split to our data. First we split into training and holdout sets, the training and hyperparamter tuning will take place using a cross-validated approach on the training set - then we will apply the tuned model to the holdout set. The holdout set should be those which we had actual data for not the predicted flags. Then we will know how well our model peforms on actual holdout data."
   ]
  },
  {
   "cell_type": "code",
   "execution_count": 483,
   "id": "8f27ed9c-71f7-4638-a0d6-abde0837a704",
   "metadata": {},
   "outputs": [],
   "source": [
    "train_set = mortgages_df.query(\"predicted == 1\")\n",
    "holdout_set = mortgages_df.query(\"predicted == 0\")"
   ]
  },
  {
   "cell_type": "code",
   "execution_count": 484,
   "id": "d3a89494-0f9d-4695-86e8-c4e5cbf266c3",
   "metadata": {},
   "outputs": [],
   "source": [
    "MORTGAGE_FEATURES = [\n",
    "    'months_with_employer',\n",
    "    'hours_per_week',\n",
    "    'capital_net',\n",
    "    'workclass',\n",
    "    'demographic_characteristic',\n",
    "    'salary_band_parsed',\n",
    "    'age'\n",
    "]"
   ]
  },
  {
   "cell_type": "code",
   "execution_count": 485,
   "id": "740ff654-5b39-4b60-b2c3-50c7c1f03347",
   "metadata": {},
   "outputs": [],
   "source": [
    "# Split into LHS and RHS and get dummies\n",
    "X, y = train_set[MORTGAGE_FEATURES], train_set.created_account\n",
    "X = pd.get_dummies(X)"
   ]
  },
  {
   "cell_type": "code",
   "execution_count": 486,
   "id": "10d658a4-d0e9-4b01-821f-b3954801be44",
   "metadata": {},
   "outputs": [
    {
     "data": {
      "text/plain": [
       "0.5956471303934265"
      ]
     },
     "execution_count": 486,
     "metadata": {},
     "output_type": "execute_result"
    }
   ],
   "source": [
    "rf_mortgage = RandomForestClassifier()\n",
    "cross_val_score(rf_mortgage, X, y, scoring='f1').mean()"
   ]
  },
  {
   "cell_type": "markdown",
   "id": "5c3ba2ce-b0ac-451f-a2f8-fcbdc3a3c6a6",
   "metadata": {},
   "source": [
    "Not a terrible first score for the model before hyperparameter tuning and calibration. We can definitely do some work to make this score higher.\n",
    "\n",
    "### Feature Selection"
   ]
  },
  {
   "cell_type": "code",
   "execution_count": 487,
   "id": "53c258b8-b87a-471d-9f27-46b99bbfe4df",
   "metadata": {},
   "outputs": [
    {
     "data": {
      "text/plain": [
       "salary_band_parsed            3.100017e-01\n",
       "demographic_characteristic    1.719177e-01\n",
       "months_with_employer          1.574808e-01\n",
       "age                           1.445080e-01\n",
       "capital_net                   9.726147e-02\n",
       "hours_per_week                8.140992e-02\n",
       "workclass_Private             8.614608e-03\n",
       "workclass_Self-emp-inc        6.883061e-03\n",
       "workclass_Self-emp-not-inc    6.470427e-03\n",
       "workclass_Local-gov           5.753309e-03\n",
       "workclass_State-gov           5.578187e-03\n",
       "workclass_Federal-gov         4.099724e-03\n",
       "workclass_Without-pay         2.100858e-05\n",
       "workclass_Never-worked        1.763055e-07\n",
       "dtype: float64"
      ]
     },
     "execution_count": 487,
     "metadata": {},
     "output_type": "execute_result"
    }
   ],
   "source": [
    "# Fit the model on all data and get feature importances\n",
    "rf_mortgage.fit(X, y)\n",
    "feature_importances = rf_mortgage.feature_importances_\n",
    "feature_names = X.columns.to_list()\n",
    "pd.Series({n: i for n, i in zip(feature_names, feature_importances)}).sort_values(ascending=False)"
   ]
  },
  {
   "cell_type": "markdown",
   "id": "45a838ee-fed4-4f0c-ac29-a74b6a9a2585",
   "metadata": {},
   "source": [
    "Like in the previous model, work class is not that useful - I will keep it in this time though as we're still only using quite a small set of features."
   ]
  },
  {
   "cell_type": "code",
   "execution_count": 488,
   "id": "fbe84c1a-5b5e-4524-a190-9fa35dd9ccf7",
   "metadata": {},
   "outputs": [],
   "source": [
    "MORTGAGE_FEATURES_FINAL = feature_names"
   ]
  },
  {
   "cell_type": "markdown",
   "id": "6e839ba5-a5bf-4f52-aba5-b751dccae82e",
   "metadata": {},
   "source": [
    "### Tune Hyperparameters"
   ]
  },
  {
   "cell_type": "code",
   "execution_count": 490,
   "id": "c8083a20-3219-4469-af8f-c2591bd01b93",
   "metadata": {},
   "outputs": [
    {
     "name": "stdout",
     "output_type": "stream",
     "text": [
      "Fitting 3 folds for each of 30 candidates, totalling 90 fits\n"
     ]
    },
    {
     "data": {
      "text/html": [
       "<style>#sk-container-id-18 {color: black;background-color: white;}#sk-container-id-18 pre{padding: 0;}#sk-container-id-18 div.sk-toggleable {background-color: white;}#sk-container-id-18 label.sk-toggleable__label {cursor: pointer;display: block;width: 100%;margin-bottom: 0;padding: 0.3em;box-sizing: border-box;text-align: center;}#sk-container-id-18 label.sk-toggleable__label-arrow:before {content: \"▸\";float: left;margin-right: 0.25em;color: #696969;}#sk-container-id-18 label.sk-toggleable__label-arrow:hover:before {color: black;}#sk-container-id-18 div.sk-estimator:hover label.sk-toggleable__label-arrow:before {color: black;}#sk-container-id-18 div.sk-toggleable__content {max-height: 0;max-width: 0;overflow: hidden;text-align: left;background-color: #f0f8ff;}#sk-container-id-18 div.sk-toggleable__content pre {margin: 0.2em;color: black;border-radius: 0.25em;background-color: #f0f8ff;}#sk-container-id-18 input.sk-toggleable__control:checked~div.sk-toggleable__content {max-height: 200px;max-width: 100%;overflow: auto;}#sk-container-id-18 input.sk-toggleable__control:checked~label.sk-toggleable__label-arrow:before {content: \"▾\";}#sk-container-id-18 div.sk-estimator input.sk-toggleable__control:checked~label.sk-toggleable__label {background-color: #d4ebff;}#sk-container-id-18 div.sk-label input.sk-toggleable__control:checked~label.sk-toggleable__label {background-color: #d4ebff;}#sk-container-id-18 input.sk-hidden--visually {border: 0;clip: rect(1px 1px 1px 1px);clip: rect(1px, 1px, 1px, 1px);height: 1px;margin: -1px;overflow: hidden;padding: 0;position: absolute;width: 1px;}#sk-container-id-18 div.sk-estimator {font-family: monospace;background-color: #f0f8ff;border: 1px dotted black;border-radius: 0.25em;box-sizing: border-box;margin-bottom: 0.5em;}#sk-container-id-18 div.sk-estimator:hover {background-color: #d4ebff;}#sk-container-id-18 div.sk-parallel-item::after {content: \"\";width: 100%;border-bottom: 1px solid gray;flex-grow: 1;}#sk-container-id-18 div.sk-label:hover label.sk-toggleable__label {background-color: #d4ebff;}#sk-container-id-18 div.sk-serial::before {content: \"\";position: absolute;border-left: 1px solid gray;box-sizing: border-box;top: 0;bottom: 0;left: 50%;z-index: 0;}#sk-container-id-18 div.sk-serial {display: flex;flex-direction: column;align-items: center;background-color: white;padding-right: 0.2em;padding-left: 0.2em;position: relative;}#sk-container-id-18 div.sk-item {position: relative;z-index: 1;}#sk-container-id-18 div.sk-parallel {display: flex;align-items: stretch;justify-content: center;background-color: white;position: relative;}#sk-container-id-18 div.sk-item::before, #sk-container-id-18 div.sk-parallel-item::before {content: \"\";position: absolute;border-left: 1px solid gray;box-sizing: border-box;top: 0;bottom: 0;left: 50%;z-index: -1;}#sk-container-id-18 div.sk-parallel-item {display: flex;flex-direction: column;z-index: 1;position: relative;background-color: white;}#sk-container-id-18 div.sk-parallel-item:first-child::after {align-self: flex-end;width: 50%;}#sk-container-id-18 div.sk-parallel-item:last-child::after {align-self: flex-start;width: 50%;}#sk-container-id-18 div.sk-parallel-item:only-child::after {width: 0;}#sk-container-id-18 div.sk-dashed-wrapped {border: 1px dashed gray;margin: 0 0.4em 0.5em 0.4em;box-sizing: border-box;padding-bottom: 0.4em;background-color: white;}#sk-container-id-18 div.sk-label label {font-family: monospace;font-weight: bold;display: inline-block;line-height: 1.2em;}#sk-container-id-18 div.sk-label-container {text-align: center;}#sk-container-id-18 div.sk-container {/* jupyter's `normalize.less` sets `[hidden] { display: none; }` but bootstrap.min.css set `[hidden] { display: none !important; }` so we also need the `!important` here to be able to override the default hidden behavior on the sphinx rendered scikit-learn.org. See: https://github.com/scikit-learn/scikit-learn/issues/21755 */display: inline-block !important;position: relative;}#sk-container-id-18 div.sk-text-repr-fallback {display: none;}</style><div id=\"sk-container-id-18\" class=\"sk-top-container\"><div class=\"sk-text-repr-fallback\"><pre>RandomizedSearchCV(cv=3, estimator=RandomForestClassifier(), n_iter=30,\n",
       "                   n_jobs=-1,\n",
       "                   param_distributions={&#x27;bootstrap&#x27;: [True, False],\n",
       "                                        &#x27;max_depth&#x27;: [10, 20, 30, 40, 50, None],\n",
       "                                        &#x27;min_samples_leaf&#x27;: [1, 2, 4, 6, 10,\n",
       "                                                             20],\n",
       "                                        &#x27;min_samples_split&#x27;: [2, 5, 10],\n",
       "                                        &#x27;n_estimators&#x27;: [100, 200, 300, 400,\n",
       "                                                         500]},\n",
       "                   scoring=&#x27;f1&#x27;, verbose=2)</pre><b>In a Jupyter environment, please rerun this cell to show the HTML representation or trust the notebook. <br />On GitHub, the HTML representation is unable to render, please try loading this page with nbviewer.org.</b></div><div class=\"sk-container\" hidden><div class=\"sk-item sk-dashed-wrapped\"><div class=\"sk-label-container\"><div class=\"sk-label sk-toggleable\"><input class=\"sk-toggleable__control sk-hidden--visually\" id=\"sk-estimator-id-40\" type=\"checkbox\" ><label for=\"sk-estimator-id-40\" class=\"sk-toggleable__label sk-toggleable__label-arrow\">RandomizedSearchCV</label><div class=\"sk-toggleable__content\"><pre>RandomizedSearchCV(cv=3, estimator=RandomForestClassifier(), n_iter=30,\n",
       "                   n_jobs=-1,\n",
       "                   param_distributions={&#x27;bootstrap&#x27;: [True, False],\n",
       "                                        &#x27;max_depth&#x27;: [10, 20, 30, 40, 50, None],\n",
       "                                        &#x27;min_samples_leaf&#x27;: [1, 2, 4, 6, 10,\n",
       "                                                             20],\n",
       "                                        &#x27;min_samples_split&#x27;: [2, 5, 10],\n",
       "                                        &#x27;n_estimators&#x27;: [100, 200, 300, 400,\n",
       "                                                         500]},\n",
       "                   scoring=&#x27;f1&#x27;, verbose=2)</pre></div></div></div><div class=\"sk-parallel\"><div class=\"sk-parallel-item\"><div class=\"sk-item\"><div class=\"sk-label-container\"><div class=\"sk-label sk-toggleable\"><input class=\"sk-toggleable__control sk-hidden--visually\" id=\"sk-estimator-id-41\" type=\"checkbox\" ><label for=\"sk-estimator-id-41\" class=\"sk-toggleable__label sk-toggleable__label-arrow\">estimator: RandomForestClassifier</label><div class=\"sk-toggleable__content\"><pre>RandomForestClassifier()</pre></div></div></div><div class=\"sk-serial\"><div class=\"sk-item\"><div class=\"sk-estimator sk-toggleable\"><input class=\"sk-toggleable__control sk-hidden--visually\" id=\"sk-estimator-id-42\" type=\"checkbox\" ><label for=\"sk-estimator-id-42\" class=\"sk-toggleable__label sk-toggleable__label-arrow\">RandomForestClassifier</label><div class=\"sk-toggleable__content\"><pre>RandomForestClassifier()</pre></div></div></div></div></div></div></div></div></div></div>"
      ],
      "text/plain": [
       "RandomizedSearchCV(cv=3, estimator=RandomForestClassifier(), n_iter=30,\n",
       "                   n_jobs=-1,\n",
       "                   param_distributions={'bootstrap': [True, False],\n",
       "                                        'max_depth': [10, 20, 30, 40, 50, None],\n",
       "                                        'min_samples_leaf': [1, 2, 4, 6, 10,\n",
       "                                                             20],\n",
       "                                        'min_samples_split': [2, 5, 10],\n",
       "                                        'n_estimators': [100, 200, 300, 400,\n",
       "                                                         500]},\n",
       "                   scoring='f1', verbose=2)"
      ]
     },
     "execution_count": 490,
     "metadata": {},
     "output_type": "execute_result"
    }
   ],
   "source": [
    "# Use the same grid as before to tune hyperparams\n",
    "rf_mortgage_random = RandomizedSearchCV(\n",
    "    estimator=rf_mortgage,\n",
    "    param_distributions=rdm_fst_grid,\n",
    "    n_iter=30,\n",
    "    cv=3,\n",
    "    verbose=2,\n",
    "    scoring='f1',\n",
    "    n_jobs=-1\n",
    ")\n",
    "rf_mortgage_random.fit(X, y)"
   ]
  },
  {
   "cell_type": "code",
   "execution_count": 491,
   "id": "3d7a8cf5-38ec-4447-8301-84a744ffdd12",
   "metadata": {},
   "outputs": [
    {
     "data": {
      "text/plain": [
       "{'n_estimators': 100,\n",
       " 'min_samples_split': 5,\n",
       " 'min_samples_leaf': 1,\n",
       " 'max_depth': 50,\n",
       " 'bootstrap': False}"
      ]
     },
     "execution_count": 491,
     "metadata": {},
     "output_type": "execute_result"
    }
   ],
   "source": [
    "mortgage_best_params = rf_mortgage_random.best_params_\n",
    "mortgage_best_params"
   ]
  },
  {
   "cell_type": "code",
   "execution_count": 493,
   "id": "13f9477d-30f1-4c1e-abbb-adb059b7eb10",
   "metadata": {},
   "outputs": [
    {
     "data": {
      "text/plain": [
       "0.30400933207949105"
      ]
     },
     "execution_count": 493,
     "metadata": {},
     "output_type": "execute_result"
    }
   ],
   "source": [
    "# CV on best params\n",
    "mortgage_rf_best = RandomForestClassifier(**mortgage_best_params)\n",
    "cross_val_score(mortgage_rf_best, X, y, cv=3, scoring='f1').mean()"
   ]
  },
  {
   "cell_type": "markdown",
   "id": "421baf7b-0dd4-45e4-8df7-03e5b759228b",
   "metadata": {},
   "source": [
    "We have improved our performance by ~2.5% after tuning - great! Normally here I would fine-tune even further with grid search but I'll skip that for the sake of this assessment."
   ]
  },
  {
   "cell_type": "markdown",
   "id": "3c7e1734-c6b0-45fb-9d3c-cb9e376ba5d5",
   "metadata": {},
   "source": [
    "### Model Calibration\n",
    "\n",
    "I'll calibrate the classifier using a CV approach so I'm making the best use of all available data."
   ]
  },
  {
   "cell_type": "code",
   "execution_count": 494,
   "id": "5df7a674-fe37-48b7-96d1-5c19f8dd67d4",
   "metadata": {},
   "outputs": [
    {
     "data": {
      "image/png": "[encoded data removed]",
      "text/plain": [
       "<Figure size 640x480 with 1 Axes>"
      ]
     },
     "metadata": {},
     "output_type": "display_data"
    }
   ],
   "source": [
    "# Check calibration on the holdout set\n",
    "mortgage_rf_best.fit(X, y)\n",
    "\n",
    "X_holdout = pd.get_dummies(holdout_set[MORTGAGE_FEATURES])\n",
    "X_holdout['workclass_Never-worked'] = 0\n",
    "X_holdout = X_holdout[MORTGAGE_FEATURES_FINAL]\n",
    "y_holdout = holdout_set.created_account\n",
    "\n",
    "probs = mortgage_rf_best.predict_proba(X_holdout)[:,1]\n",
    "fop, mpv = calibration_curve(y_holdout, probs, n_bins=10)\n",
    "plt.plot([0, 1], [0, 1], linestyle='--')\n",
    "plt.plot(mpv, fop, marker='.')\n",
    "plt.show()"
   ]
  },
  {
   "cell_type": "markdown",
   "id": "7094a470-34ac-4f73-a56d-55e336d22d93",
   "metadata": {},
   "source": [
    "It's actually quite well calibrated already - get check to see if we get any improvement though"
   ]
  },
  {
   "cell_type": "code",
   "execution_count": 495,
   "id": "9286b5bd-a801-45d0-a002-09a57cd9856d",
   "metadata": {},
   "outputs": [
    {
     "data": {
      "text/html": [
       "<style>#sk-container-id-19 {color: black;background-color: white;}#sk-container-id-19 pre{padding: 0;}#sk-container-id-19 div.sk-toggleable {background-color: white;}#sk-container-id-19 label.sk-toggleable__label {cursor: pointer;display: block;width: 100%;margin-bottom: 0;padding: 0.3em;box-sizing: border-box;text-align: center;}#sk-container-id-19 label.sk-toggleable__label-arrow:before {content: \"▸\";float: left;margin-right: 0.25em;color: #696969;}#sk-container-id-19 label.sk-toggleable__label-arrow:hover:before {color: black;}#sk-container-id-19 div.sk-estimator:hover label.sk-toggleable__label-arrow:before {color: black;}#sk-container-id-19 div.sk-toggleable__content {max-height: 0;max-width: 0;overflow: hidden;text-align: left;background-color: #f0f8ff;}#sk-container-id-19 div.sk-toggleable__content pre {margin: 0.2em;color: black;border-radius: 0.25em;background-color: #f0f8ff;}#sk-container-id-19 input.sk-toggleable__control:checked~div.sk-toggleable__content {max-height: 200px;max-width: 100%;overflow: auto;}#sk-container-id-19 input.sk-toggleable__control:checked~label.sk-toggleable__label-arrow:before {content: \"▾\";}#sk-container-id-19 div.sk-estimator input.sk-toggleable__control:checked~label.sk-toggleable__label {background-color: #d4ebff;}#sk-container-id-19 div.sk-label input.sk-toggleable__control:checked~label.sk-toggleable__label {background-color: #d4ebff;}#sk-container-id-19 input.sk-hidden--visually {border: 0;clip: rect(1px 1px 1px 1px);clip: rect(1px, 1px, 1px, 1px);height: 1px;margin: -1px;overflow: hidden;padding: 0;position: absolute;width: 1px;}#sk-container-id-19 div.sk-estimator {font-family: monospace;background-color: #f0f8ff;border: 1px dotted black;border-radius: 0.25em;box-sizing: border-box;margin-bottom: 0.5em;}#sk-container-id-19 div.sk-estimator:hover {background-color: #d4ebff;}#sk-container-id-19 div.sk-parallel-item::after {content: \"\";width: 100%;border-bottom: 1px solid gray;flex-grow: 1;}#sk-container-id-19 div.sk-label:hover label.sk-toggleable__label {background-color: #d4ebff;}#sk-container-id-19 div.sk-serial::before {content: \"\";position: absolute;border-left: 1px solid gray;box-sizing: border-box;top: 0;bottom: 0;left: 50%;z-index: 0;}#sk-container-id-19 div.sk-serial {display: flex;flex-direction: column;align-items: center;background-color: white;padding-right: 0.2em;padding-left: 0.2em;position: relative;}#sk-container-id-19 div.sk-item {position: relative;z-index: 1;}#sk-container-id-19 div.sk-parallel {display: flex;align-items: stretch;justify-content: center;background-color: white;position: relative;}#sk-container-id-19 div.sk-item::before, #sk-container-id-19 div.sk-parallel-item::before {content: \"\";position: absolute;border-left: 1px solid gray;box-sizing: border-box;top: 0;bottom: 0;left: 50%;z-index: -1;}#sk-container-id-19 div.sk-parallel-item {display: flex;flex-direction: column;z-index: 1;position: relative;background-color: white;}#sk-container-id-19 div.sk-parallel-item:first-child::after {align-self: flex-end;width: 50%;}#sk-container-id-19 div.sk-parallel-item:last-child::after {align-self: flex-start;width: 50%;}#sk-container-id-19 div.sk-parallel-item:only-child::after {width: 0;}#sk-container-id-19 div.sk-dashed-wrapped {border: 1px dashed gray;margin: 0 0.4em 0.5em 0.4em;box-sizing: border-box;padding-bottom: 0.4em;background-color: white;}#sk-container-id-19 div.sk-label label {font-family: monospace;font-weight: bold;display: inline-block;line-height: 1.2em;}#sk-container-id-19 div.sk-label-container {text-align: center;}#sk-container-id-19 div.sk-container {/* jupyter's `normalize.less` sets `[hidden] { display: none; }` but bootstrap.min.css set `[hidden] { display: none !important; }` so we also need the `!important` here to be able to override the default hidden behavior on the sphinx rendered scikit-learn.org. See: https://github.com/scikit-learn/scikit-learn/issues/21755 */display: inline-block !important;position: relative;}#sk-container-id-19 div.sk-text-repr-fallback {display: none;}</style><div id=\"sk-container-id-19\" class=\"sk-top-container\"><div class=\"sk-text-repr-fallback\"><pre>CalibratedClassifierCV(cv=3,\n",
       "                       estimator=RandomForestClassifier(bootstrap=False,\n",
       "                                                        max_depth=50,\n",
       "                                                        min_samples_split=5))</pre><b>In a Jupyter environment, please rerun this cell to show the HTML representation or trust the notebook. <br />On GitHub, the HTML representation is unable to render, please try loading this page with nbviewer.org.</b></div><div class=\"sk-container\" hidden><div class=\"sk-item sk-dashed-wrapped\"><div class=\"sk-label-container\"><div class=\"sk-label sk-toggleable\"><input class=\"sk-toggleable__control sk-hidden--visually\" id=\"sk-estimator-id-43\" type=\"checkbox\" ><label for=\"sk-estimator-id-43\" class=\"sk-toggleable__label sk-toggleable__label-arrow\">CalibratedClassifierCV</label><div class=\"sk-toggleable__content\"><pre>CalibratedClassifierCV(cv=3,\n",
       "                       estimator=RandomForestClassifier(bootstrap=False,\n",
       "                                                        max_depth=50,\n",
       "                                                        min_samples_split=5))</pre></div></div></div><div class=\"sk-parallel\"><div class=\"sk-parallel-item\"><div class=\"sk-item\"><div class=\"sk-label-container\"><div class=\"sk-label sk-toggleable\"><input class=\"sk-toggleable__control sk-hidden--visually\" id=\"sk-estimator-id-44\" type=\"checkbox\" ><label for=\"sk-estimator-id-44\" class=\"sk-toggleable__label sk-toggleable__label-arrow\">estimator: RandomForestClassifier</label><div class=\"sk-toggleable__content\"><pre>RandomForestClassifier(bootstrap=False, max_depth=50, min_samples_split=5)</pre></div></div></div><div class=\"sk-serial\"><div class=\"sk-item\"><div class=\"sk-estimator sk-toggleable\"><input class=\"sk-toggleable__control sk-hidden--visually\" id=\"sk-estimator-id-45\" type=\"checkbox\" ><label for=\"sk-estimator-id-45\" class=\"sk-toggleable__label sk-toggleable__label-arrow\">RandomForestClassifier</label><div class=\"sk-toggleable__content\"><pre>RandomForestClassifier(bootstrap=False, max_depth=50, min_samples_split=5)</pre></div></div></div></div></div></div></div></div></div></div>"
      ],
      "text/plain": [
       "CalibratedClassifierCV(cv=3,\n",
       "                       estimator=RandomForestClassifier(bootstrap=False,\n",
       "                                                        max_depth=50,\n",
       "                                                        min_samples_split=5))"
      ]
     },
     "execution_count": 495,
     "metadata": {},
     "output_type": "execute_result"
    }
   ],
   "source": [
    "# Calibrate and train model\n",
    "mortgage_rf_calibrated = CalibratedClassifierCV(mortgage_rf_best, cv=3)\n",
    "mortgage_rf_calibrated.fit(X, y)"
   ]
  },
  {
   "cell_type": "code",
   "execution_count": 496,
   "id": "9669f553-d9d8-49fd-80b9-b176cbcfa4b9",
   "metadata": {},
   "outputs": [
    {
     "data": {
      "image/png": "[encoded data removed]",
      "text/plain": [
       "<Figure size 640x480 with 1 Axes>"
      ]
     },
     "metadata": {},
     "output_type": "display_data"
    }
   ],
   "source": [
    "# Check calibrated model\n",
    "probs = mortgage_rf_calibrated.predict_proba(X_holdout)[:,1]\n",
    "fop, mpv = calibration_curve(y_holdout, probs, n_bins=10)\n",
    "plt.plot([0, 1], [0, 1], linestyle='--')\n",
    "plt.plot(mpv, fop, marker='.')\n",
    "plt.show()"
   ]
  },
  {
   "cell_type": "markdown",
   "id": "0279a62b-a1a8-42e5-be41-58e0626b9cd7",
   "metadata": {},
   "source": [
    "Made things worse - I will stick with the uncalibrated model and maybe just select a good threshold."
   ]
  },
  {
   "cell_type": "code",
   "execution_count": 497,
   "id": "e5d4f008-b8f6-4cd0-9c36-c0652211c24a",
   "metadata": {},
   "outputs": [
    {
     "data": {
      "text/plain": [
       "0    0.921\n",
       "1    0.079\n",
       "Name: created_account, dtype: float64"
      ]
     },
     "execution_count": 497,
     "metadata": {},
     "output_type": "execute_result"
    }
   ],
   "source": [
    "# Holdout threshold\n",
    "holdout_set.created_account.value_counts(normalize=True)"
   ]
  },
  {
   "cell_type": "code",
   "execution_count": 498,
   "id": "35e800dd-c93c-4727-8eb2-0d3bb7a376b5",
   "metadata": {},
   "outputs": [
    {
     "data": {
      "text/html": [
       "<style>#sk-container-id-20 {color: black;background-color: white;}#sk-container-id-20 pre{padding: 0;}#sk-container-id-20 div.sk-toggleable {background-color: white;}#sk-container-id-20 label.sk-toggleable__label {cursor: pointer;display: block;width: 100%;margin-bottom: 0;padding: 0.3em;box-sizing: border-box;text-align: center;}#sk-container-id-20 label.sk-toggleable__label-arrow:before {content: \"▸\";float: left;margin-right: 0.25em;color: #696969;}#sk-container-id-20 label.sk-toggleable__label-arrow:hover:before {color: black;}#sk-container-id-20 div.sk-estimator:hover label.sk-toggleable__label-arrow:before {color: black;}#sk-container-id-20 div.sk-toggleable__content {max-height: 0;max-width: 0;overflow: hidden;text-align: left;background-color: #f0f8ff;}#sk-container-id-20 div.sk-toggleable__content pre {margin: 0.2em;color: black;border-radius: 0.25em;background-color: #f0f8ff;}#sk-container-id-20 input.sk-toggleable__control:checked~div.sk-toggleable__content {max-height: 200px;max-width: 100%;overflow: auto;}#sk-container-id-20 input.sk-toggleable__control:checked~label.sk-toggleable__label-arrow:before {content: \"▾\";}#sk-container-id-20 div.sk-estimator input.sk-toggleable__control:checked~label.sk-toggleable__label {background-color: #d4ebff;}#sk-container-id-20 div.sk-label input.sk-toggleable__control:checked~label.sk-toggleable__label {background-color: #d4ebff;}#sk-container-id-20 input.sk-hidden--visually {border: 0;clip: rect(1px 1px 1px 1px);clip: rect(1px, 1px, 1px, 1px);height: 1px;margin: -1px;overflow: hidden;padding: 0;position: absolute;width: 1px;}#sk-container-id-20 div.sk-estimator {font-family: monospace;background-color: #f0f8ff;border: 1px dotted black;border-radius: 0.25em;box-sizing: border-box;margin-bottom: 0.5em;}#sk-container-id-20 div.sk-estimator:hover {background-color: #d4ebff;}#sk-container-id-20 div.sk-parallel-item::after {content: \"\";width: 100%;border-bottom: 1px solid gray;flex-grow: 1;}#sk-container-id-20 div.sk-label:hover label.sk-toggleable__label {background-color: #d4ebff;}#sk-container-id-20 div.sk-serial::before {content: \"\";position: absolute;border-left: 1px solid gray;box-sizing: border-box;top: 0;bottom: 0;left: 50%;z-index: 0;}#sk-container-id-20 div.sk-serial {display: flex;flex-direction: column;align-items: center;background-color: white;padding-right: 0.2em;padding-left: 0.2em;position: relative;}#sk-container-id-20 div.sk-item {position: relative;z-index: 1;}#sk-container-id-20 div.sk-parallel {display: flex;align-items: stretch;justify-content: center;background-color: white;position: relative;}#sk-container-id-20 div.sk-item::before, #sk-container-id-20 div.sk-parallel-item::before {content: \"\";position: absolute;border-left: 1px solid gray;box-sizing: border-box;top: 0;bottom: 0;left: 50%;z-index: -1;}#sk-container-id-20 div.sk-parallel-item {display: flex;flex-direction: column;z-index: 1;position: relative;background-color: white;}#sk-container-id-20 div.sk-parallel-item:first-child::after {align-self: flex-end;width: 50%;}#sk-container-id-20 div.sk-parallel-item:last-child::after {align-self: flex-start;width: 50%;}#sk-container-id-20 div.sk-parallel-item:only-child::after {width: 0;}#sk-container-id-20 div.sk-dashed-wrapped {border: 1px dashed gray;margin: 0 0.4em 0.5em 0.4em;box-sizing: border-box;padding-bottom: 0.4em;background-color: white;}#sk-container-id-20 div.sk-label label {font-family: monospace;font-weight: bold;display: inline-block;line-height: 1.2em;}#sk-container-id-20 div.sk-label-container {text-align: center;}#sk-container-id-20 div.sk-container {/* jupyter's `normalize.less` sets `[hidden] { display: none; }` but bootstrap.min.css set `[hidden] { display: none !important; }` so we also need the `!important` here to be able to override the default hidden behavior on the sphinx rendered scikit-learn.org. See: https://github.com/scikit-learn/scikit-learn/issues/21755 */display: inline-block !important;position: relative;}#sk-container-id-20 div.sk-text-repr-fallback {display: none;}</style><div id=\"sk-container-id-20\" class=\"sk-top-container\"><div class=\"sk-text-repr-fallback\"><pre>RandomForestClassifier(bootstrap=False, max_depth=50, min_samples_split=5)</pre><b>In a Jupyter environment, please rerun this cell to show the HTML representation or trust the notebook. <br />On GitHub, the HTML representation is unable to render, please try loading this page with nbviewer.org.</b></div><div class=\"sk-container\" hidden><div class=\"sk-item\"><div class=\"sk-estimator sk-toggleable\"><input class=\"sk-toggleable__control sk-hidden--visually\" id=\"sk-estimator-id-46\" type=\"checkbox\" checked><label for=\"sk-estimator-id-46\" class=\"sk-toggleable__label sk-toggleable__label-arrow\">RandomForestClassifier</label><div class=\"sk-toggleable__content\"><pre>RandomForestClassifier(bootstrap=False, max_depth=50, min_samples_split=5)</pre></div></div></div></div></div>"
      ],
      "text/plain": [
       "RandomForestClassifier(bootstrap=False, max_depth=50, min_samples_split=5)"
      ]
     },
     "execution_count": 498,
     "metadata": {},
     "output_type": "execute_result"
    }
   ],
   "source": [
    "# Fit on whole training set\n",
    "mortgage_rf_best.fit(X, y)"
   ]
  },
  {
   "cell_type": "code",
   "execution_count": 499,
   "id": "52662303-2093-40c8-b850-027496de5511",
   "metadata": {},
   "outputs": [
    {
     "data": {
      "image/png": "[encoded data removed]",
      "text/plain": [
       "<Figure size 640x480 with 1 Axes>"
      ]
     },
     "metadata": {},
     "output_type": "display_data"
    }
   ],
   "source": [
    "# Plot precision-recall curve \n",
    "y_prob = mortgage_rf_best.predict_proba(X_holdout)[:,1]\n",
    "precision, recall, thresholds = precision_recall_curve(y_holdout, y_prob)\n",
    "\n",
    "no_skill = len(y_holdout[y_holdout==1]) / len(y_holdout)\n",
    "plt.plot([0,1], [no_skill,no_skill], linestyle='--', label='No Skill')\n",
    "plt.plot(recall, precision, marker='.', label='Logistic')\n",
    "plt.xlabel('Recall')\n",
    "plt.ylabel('Precision')\n",
    "plt.legend()\n",
    "plt.show()"
   ]
  },
  {
   "cell_type": "code",
   "execution_count": 500,
   "id": "60a57f9c-5d3b-4889-a414-7b17642bcef1",
   "metadata": {},
   "outputs": [
    {
     "name": "stdout",
     "output_type": "stream",
     "text": [
      "Best Threshold=0.197500, F-Score=0.513\n"
     ]
    }
   ],
   "source": [
    "# Find optimal threshold based on f-score\n",
    "fscore = (2 * precision * recall) / (precision + recall)\n",
    "\n",
    "# locate the index of the largest f score\n",
    "ix = np.argmax(fscore)\n",
    "\n",
    "print('Best Threshold=%f, F-Score=%.3f' % (thresholds[ix], fscore[ix]))"
   ]
  },
  {
   "cell_type": "code",
   "execution_count": 501,
   "id": "60481c3a-cb86-4c71-a023-4f9e37125608",
   "metadata": {},
   "outputs": [
    {
     "data": {
      "image/png": "[encoded data removed]",
      "text/plain": [
       "<Figure size 640x480 with 1 Axes>"
      ]
     },
     "metadata": {},
     "output_type": "display_data"
    }
   ],
   "source": [
    "# Plot precision-recall curve with optimal threshold\n",
    "y_prob = mortgage_rf_best.predict_proba(X_holdout)[:,1]\n",
    "precision, recall, thresholds = precision_recall_curve(y_holdout, y_prob)\n",
    "\n",
    "no_skill = len(y_holdout[y_holdout==1]) / len(y_holdout)\n",
    "plt.plot([0,1], [no_skill,no_skill], linestyle='--', label='No Skill')\n",
    "plt.plot(recall, precision, marker='.', label='Logistic')\n",
    "plt.scatter(recall[ix], precision[ix], marker='o', color='black', label='Best')\n",
    "plt.xlabel('Recall')\n",
    "plt.ylabel('Precision')\n",
    "plt.legend()\n",
    "plt.show()"
   ]
  },
  {
   "cell_type": "code",
   "execution_count": 502,
   "id": "781b44ef-98d0-4049-90a2-88537a018c51",
   "metadata": {},
   "outputs": [
    {
     "name": "stderr",
     "output_type": "stream",
     "text": [
      "C:\\Users\\josep\\AppData\\Local\\Temp\\ipykernel_10016\\179033086.py:2: SettingWithCopyWarning: \n",
      "A value is trying to be set on a copy of a slice from a DataFrame.\n",
      "Try using .loc[row_indexer,col_indexer] = value instead\n",
      "\n",
      "See the caveats in the documentation: https://pandas.pydata.org/pandas-docs/stable/user_guide/indexing.html#returning-a-view-versus-a-copy\n",
      "  holdout_set['created_account_pred'] = (mortgage_rf_best.predict_proba(X_holdout)[:,1] >= 0.243664).astype(int)\n"
     ]
    }
   ],
   "source": [
    "# Predict on holdout set and set threshold by comparing class distribution of actuals\n",
    "holdout_set['created_account_pred'] = (mortgage_rf_best.predict_proba(X_holdout)[:,1] >= 0.243664).astype(int)"
   ]
  },
  {
   "cell_type": "code",
   "execution_count": 503,
   "id": "6ac42564-f3bf-4086-a3db-fc5e607170ba",
   "metadata": {},
   "outputs": [
    {
     "name": "stdout",
     "output_type": "stream",
     "text": [
      "              precision    recall  f1-score   support\n",
      "\n",
      "           0       0.96      0.93      0.95      2763\n",
      "           1       0.44      0.59      0.50       237\n",
      "\n",
      "    accuracy                           0.91      3000\n",
      "   macro avg       0.70      0.76      0.73      3000\n",
      "weighted avg       0.92      0.91      0.91      3000\n",
      "\n"
     ]
    }
   ],
   "source": [
    "print(classification_report(holdout_set.created_account, holdout_set.created_account_pred))"
   ]
  },
  {
   "cell_type": "markdown",
   "id": "46184460-a1d4-433a-b654-f94f330854dd",
   "metadata": {},
   "source": [
    "How to interpret this \n"
   ]
  }
 ],
 "metadata": {
  "kernelspec": {
   "display_name": "lbg-assessment",
   "language": "python",
   "name": "lbg-assessment"
  },
  "language_info": {
   "codemirror_mode": {
    "name": "ipython",
    "version": 3
   },
   "file_extension": ".py",
   "mimetype": "text/x-python",
   "name": "python",
   "nbconvert_exporter": "python",
   "pygments_lexer": "ipython3",
   "version": "3.11.0"
  }
 },
 "nbformat": 4,
 "nbformat_minor": 5
}
